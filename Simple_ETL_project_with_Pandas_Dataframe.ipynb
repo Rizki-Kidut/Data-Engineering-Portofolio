{
  "nbformat": 4,
  "nbformat_minor": 0,
  "metadata": {
    "colab": {
      "provenance": []
    },
    "kernelspec": {
      "name": "python3",
      "display_name": "Python 3"
    },
    "language_info": {
      "name": "python"
    }
  },
  "cells": [
    {
      "cell_type": "markdown",
      "source": [
        "# Simple ETL project with Pandas Dataframe.\n",
        "---\n",
        "## Introduction\n",
        "\n",
        "In this project, I was asked to process the registration data for a hackathon organized by DQLab called DQThon.\n",
        "\n",
        "This dataset consists of 5000 rows of data (5000 participants) in CSV (Comma-separated values) format and has several columns including:\n",
        "\n",
        "1. participant_id: ID of the hackathon participant. This column is unique so that participants must have different IDs\n",
        "2. first_name: participant's first name\n",
        "3. last_name: participant's last name\n",
        "4. birth_date: participant's date of birth\n",
        "5. address: the participant's residential address\n",
        "6. phone_number: Participant's cellphone/phone number\n",
        "7. country: the participant's country of origin\n",
        "8. institute: current participating institution, can be a company name or university name\n",
        "9. occupation: the participant's current occupation\n",
        "10. register_time: time for participants to register for the hackathon in seconds."
      ],
      "metadata": {
        "id": "IA68XOoG8gA0"
      }
    },
    {
      "cell_type": "markdown",
      "source": [
        "## 1. Extract\n",
        "\n",
        "In the first step, I'll import the dataset and import pandas data frame, and take a look at the dataset.\n"
      ],
      "metadata": {
        "id": "7s7VdJSP95Ov"
      }
    },
    {
      "cell_type": "code",
      "execution_count": 1,
      "metadata": {
        "id": "u43SjOzB7vOM"
      },
      "outputs": [],
      "source": [
        "import pandas as pd\n",
        "df_participant = pd.read_csv('https://storage.googleapis.com/dqlab-dataset/dqthon-participants.csv')"
      ]
    },
    {
      "cell_type": "code",
      "source": [
        "df_participant"
      ],
      "metadata": {
        "colab": {
          "base_uri": "https://localhost:8080/",
          "height": 641
        },
        "id": "mfhcWuCU-N-c",
        "outputId": "f426b86c-0d90-4158-8185-3443128d567e"
      },
      "execution_count": 2,
      "outputs": [
        {
          "output_type": "execute_result",
          "data": {
            "text/plain": [
              "                            participant_id first_name   last_name  \\\n",
              "0     bd9b6f88-b84f-4c4d-90f8-b67fe2f1a29a      Citra  Nurdiyanti   \n",
              "1     7dfe3391-6f40-47b6-b4db-0c76ebaf5fc3       Aris    Setiawan   \n",
              "2     19582d7f-b824-4fe5-a517-d5bf573fc768   Cornelia   Handayani   \n",
              "3     aeb6d817-25f3-4867-8a74-8d92e0a0f633      Soleh      Rajasa   \n",
              "4     1fdabdd9-5444-4c97-87b2-fe8833ad0d27       Vivi      Astuti   \n",
              "...                                    ...        ...         ...   \n",
              "4995  5f084245-58cb-4360-8cff-112f06f7214e      Mitra    Latupono   \n",
              "4996  fc6e142a-3f66-4330-9975-8c1dc7f9bb03      Indah   Rahmawati   \n",
              "4997  4521ff9f-4aec-401b-84aa-a4e6fc6549a4      Irsad    Najmudin   \n",
              "4998  1c91596e-427c-44a7-b7d0-974f44e18381      Carla    Nasyidah   \n",
              "4999  5d682e84-bcb5-43e9-8ce0-615364f5376a    Darmana     Maryadi   \n",
              "\n",
              "       birth_date                                            address  \\\n",
              "0     05 Feb 1991           Gg. Monginsidi No. 08\\nMedan, Aceh 80734   \n",
              "1     11 Jan 1993     Gg. Rajawali Timur No. 7\\nPrabumulih, MA 09434   \n",
              "2     31 Jul 1993             Jalan Kebonjati No. 0\\nAmbon, SS 57739   \n",
              "3     04 Nov 1991    Jl. Yos Sudarso No. 109\\nLubuklinggau, SR 76156   \n",
              "4     22 Jan 2003  Jalan Gardujati No. 53\\nKediri, Sulawesi Tenga...   \n",
              "...           ...                                                ...   \n",
              "4995  27 Apr 2000            Jl. Monginsidi No. 5\\nCirebon, BB 50268   \n",
              "4996  06 Mar 1996              Gang Joyoboyo No. 73\\nBogor, BT 57434   \n",
              "4997  14 Feb 2003   Jalan PHH. Mustofa No. 0\\nTanjungbalai, MU 95312   \n",
              "4998  22 Aug 1994  Jl. H.J Maemunah No. 955\\nManado, Kepulauan Ba...   \n",
              "4999  09 Feb 2002  Jalan Erlangga No. 76\\nBontang, Sulawesi Tengg...   \n",
              "\n",
              "             phone_number      country                            institute  \\\n",
              "0         (0151) 081 2706      Georgia                 UD Prakasa Mandasari   \n",
              "1      +62 (036) 461 7027  Korea Utara               Universitas Diponegoro   \n",
              "2            089 833 6695       Komoro             UD Hardiansyah Puspasari   \n",
              "3      +62 (418) 329-4756      Eritrea            Perum Tampubolon Yuliarti   \n",
              "4              0812511835     Aljazair               PT Hardiansyah Rahimah   \n",
              "...                   ...          ...                                  ...   \n",
              "4995   +62 (050) 795-8398     Hongaria  Institut Teknologi Sepuluh Nopember   \n",
              "4996  +62 (0443) 963 0055     Norwegia               CV Safitri Hastuti Tbk   \n",
              "4997  +62 (0408) 216-7689        Ghana   Universitas Katolik Widya Manadala   \n",
              "4998  +62 (0751) 380 3352       Gambia             CV Permadi (Persero) Tbk   \n",
              "4999   +62 (066) 414 8791    Singapura             Perum Laksita Kuswandari   \n",
              "\n",
              "                          occupation  register_time  \n",
              "0     Business Intelligence Engineer   1.617634e+09  \n",
              "1                  Frontend Engineer   1.617634e+09  \n",
              "2                   Business Analyst   1.617634e+09  \n",
              "3                    DevOps Engineer   1.617634e+09  \n",
              "4                       Data Analyst   1.617634e+09  \n",
              "...                              ...            ...  \n",
              "4995  Business Intelligence Engineer   1.617634e+09  \n",
              "4996                   Data Engineer   1.617634e+09  \n",
              "4997              Fullstack Engineer   1.617634e+09  \n",
              "4998              Fullstack Engineer   1.617634e+09  \n",
              "4999                 DevOps Engineer   1.617634e+09  \n",
              "\n",
              "[5000 rows x 10 columns]"
            ],
            "text/html": [
              "\n",
              "  <div id=\"df-f8637e22-a7c9-4226-a717-f6d551decdc0\">\n",
              "    <div class=\"colab-df-container\">\n",
              "      <div>\n",
              "<style scoped>\n",
              "    .dataframe tbody tr th:only-of-type {\n",
              "        vertical-align: middle;\n",
              "    }\n",
              "\n",
              "    .dataframe tbody tr th {\n",
              "        vertical-align: top;\n",
              "    }\n",
              "\n",
              "    .dataframe thead th {\n",
              "        text-align: right;\n",
              "    }\n",
              "</style>\n",
              "<table border=\"1\" class=\"dataframe\">\n",
              "  <thead>\n",
              "    <tr style=\"text-align: right;\">\n",
              "      <th></th>\n",
              "      <th>participant_id</th>\n",
              "      <th>first_name</th>\n",
              "      <th>last_name</th>\n",
              "      <th>birth_date</th>\n",
              "      <th>address</th>\n",
              "      <th>phone_number</th>\n",
              "      <th>country</th>\n",
              "      <th>institute</th>\n",
              "      <th>occupation</th>\n",
              "      <th>register_time</th>\n",
              "    </tr>\n",
              "  </thead>\n",
              "  <tbody>\n",
              "    <tr>\n",
              "      <th>0</th>\n",
              "      <td>bd9b6f88-b84f-4c4d-90f8-b67fe2f1a29a</td>\n",
              "      <td>Citra</td>\n",
              "      <td>Nurdiyanti</td>\n",
              "      <td>05 Feb 1991</td>\n",
              "      <td>Gg. Monginsidi No. 08\\nMedan, Aceh 80734</td>\n",
              "      <td>(0151) 081 2706</td>\n",
              "      <td>Georgia</td>\n",
              "      <td>UD Prakasa Mandasari</td>\n",
              "      <td>Business Intelligence Engineer</td>\n",
              "      <td>1.617634e+09</td>\n",
              "    </tr>\n",
              "    <tr>\n",
              "      <th>1</th>\n",
              "      <td>7dfe3391-6f40-47b6-b4db-0c76ebaf5fc3</td>\n",
              "      <td>Aris</td>\n",
              "      <td>Setiawan</td>\n",
              "      <td>11 Jan 1993</td>\n",
              "      <td>Gg. Rajawali Timur No. 7\\nPrabumulih, MA 09434</td>\n",
              "      <td>+62 (036) 461 7027</td>\n",
              "      <td>Korea Utara</td>\n",
              "      <td>Universitas Diponegoro</td>\n",
              "      <td>Frontend Engineer</td>\n",
              "      <td>1.617634e+09</td>\n",
              "    </tr>\n",
              "    <tr>\n",
              "      <th>2</th>\n",
              "      <td>19582d7f-b824-4fe5-a517-d5bf573fc768</td>\n",
              "      <td>Cornelia</td>\n",
              "      <td>Handayani</td>\n",
              "      <td>31 Jul 1993</td>\n",
              "      <td>Jalan Kebonjati No. 0\\nAmbon, SS 57739</td>\n",
              "      <td>089 833 6695</td>\n",
              "      <td>Komoro</td>\n",
              "      <td>UD Hardiansyah Puspasari</td>\n",
              "      <td>Business Analyst</td>\n",
              "      <td>1.617634e+09</td>\n",
              "    </tr>\n",
              "    <tr>\n",
              "      <th>3</th>\n",
              "      <td>aeb6d817-25f3-4867-8a74-8d92e0a0f633</td>\n",
              "      <td>Soleh</td>\n",
              "      <td>Rajasa</td>\n",
              "      <td>04 Nov 1991</td>\n",
              "      <td>Jl. Yos Sudarso No. 109\\nLubuklinggau, SR 76156</td>\n",
              "      <td>+62 (418) 329-4756</td>\n",
              "      <td>Eritrea</td>\n",
              "      <td>Perum Tampubolon Yuliarti</td>\n",
              "      <td>DevOps Engineer</td>\n",
              "      <td>1.617634e+09</td>\n",
              "    </tr>\n",
              "    <tr>\n",
              "      <th>4</th>\n",
              "      <td>1fdabdd9-5444-4c97-87b2-fe8833ad0d27</td>\n",
              "      <td>Vivi</td>\n",
              "      <td>Astuti</td>\n",
              "      <td>22 Jan 2003</td>\n",
              "      <td>Jalan Gardujati No. 53\\nKediri, Sulawesi Tenga...</td>\n",
              "      <td>0812511835</td>\n",
              "      <td>Aljazair</td>\n",
              "      <td>PT Hardiansyah Rahimah</td>\n",
              "      <td>Data Analyst</td>\n",
              "      <td>1.617634e+09</td>\n",
              "    </tr>\n",
              "    <tr>\n",
              "      <th>...</th>\n",
              "      <td>...</td>\n",
              "      <td>...</td>\n",
              "      <td>...</td>\n",
              "      <td>...</td>\n",
              "      <td>...</td>\n",
              "      <td>...</td>\n",
              "      <td>...</td>\n",
              "      <td>...</td>\n",
              "      <td>...</td>\n",
              "      <td>...</td>\n",
              "    </tr>\n",
              "    <tr>\n",
              "      <th>4995</th>\n",
              "      <td>5f084245-58cb-4360-8cff-112f06f7214e</td>\n",
              "      <td>Mitra</td>\n",
              "      <td>Latupono</td>\n",
              "      <td>27 Apr 2000</td>\n",
              "      <td>Jl. Monginsidi No. 5\\nCirebon, BB 50268</td>\n",
              "      <td>+62 (050) 795-8398</td>\n",
              "      <td>Hongaria</td>\n",
              "      <td>Institut Teknologi Sepuluh Nopember</td>\n",
              "      <td>Business Intelligence Engineer</td>\n",
              "      <td>1.617634e+09</td>\n",
              "    </tr>\n",
              "    <tr>\n",
              "      <th>4996</th>\n",
              "      <td>fc6e142a-3f66-4330-9975-8c1dc7f9bb03</td>\n",
              "      <td>Indah</td>\n",
              "      <td>Rahmawati</td>\n",
              "      <td>06 Mar 1996</td>\n",
              "      <td>Gang Joyoboyo No. 73\\nBogor, BT 57434</td>\n",
              "      <td>+62 (0443) 963 0055</td>\n",
              "      <td>Norwegia</td>\n",
              "      <td>CV Safitri Hastuti Tbk</td>\n",
              "      <td>Data Engineer</td>\n",
              "      <td>1.617634e+09</td>\n",
              "    </tr>\n",
              "    <tr>\n",
              "      <th>4997</th>\n",
              "      <td>4521ff9f-4aec-401b-84aa-a4e6fc6549a4</td>\n",
              "      <td>Irsad</td>\n",
              "      <td>Najmudin</td>\n",
              "      <td>14 Feb 2003</td>\n",
              "      <td>Jalan PHH. Mustofa No. 0\\nTanjungbalai, MU 95312</td>\n",
              "      <td>+62 (0408) 216-7689</td>\n",
              "      <td>Ghana</td>\n",
              "      <td>Universitas Katolik Widya Manadala</td>\n",
              "      <td>Fullstack Engineer</td>\n",
              "      <td>1.617634e+09</td>\n",
              "    </tr>\n",
              "    <tr>\n",
              "      <th>4998</th>\n",
              "      <td>1c91596e-427c-44a7-b7d0-974f44e18381</td>\n",
              "      <td>Carla</td>\n",
              "      <td>Nasyidah</td>\n",
              "      <td>22 Aug 1994</td>\n",
              "      <td>Jl. H.J Maemunah No. 955\\nManado, Kepulauan Ba...</td>\n",
              "      <td>+62 (0751) 380 3352</td>\n",
              "      <td>Gambia</td>\n",
              "      <td>CV Permadi (Persero) Tbk</td>\n",
              "      <td>Fullstack Engineer</td>\n",
              "      <td>1.617634e+09</td>\n",
              "    </tr>\n",
              "    <tr>\n",
              "      <th>4999</th>\n",
              "      <td>5d682e84-bcb5-43e9-8ce0-615364f5376a</td>\n",
              "      <td>Darmana</td>\n",
              "      <td>Maryadi</td>\n",
              "      <td>09 Feb 2002</td>\n",
              "      <td>Jalan Erlangga No. 76\\nBontang, Sulawesi Tengg...</td>\n",
              "      <td>+62 (066) 414 8791</td>\n",
              "      <td>Singapura</td>\n",
              "      <td>Perum Laksita Kuswandari</td>\n",
              "      <td>DevOps Engineer</td>\n",
              "      <td>1.617634e+09</td>\n",
              "    </tr>\n",
              "  </tbody>\n",
              "</table>\n",
              "<p>5000 rows × 10 columns</p>\n",
              "</div>\n",
              "      <button class=\"colab-df-convert\" onclick=\"convertToInteractive('df-f8637e22-a7c9-4226-a717-f6d551decdc0')\"\n",
              "              title=\"Convert this dataframe to an interactive table.\"\n",
              "              style=\"display:none;\">\n",
              "        \n",
              "  <svg xmlns=\"http://www.w3.org/2000/svg\" height=\"24px\"viewBox=\"0 0 24 24\"\n",
              "       width=\"24px\">\n",
              "    <path d=\"M0 0h24v24H0V0z\" fill=\"none\"/>\n",
              "    <path d=\"M18.56 5.44l.94 2.06.94-2.06 2.06-.94-2.06-.94-.94-2.06-.94 2.06-2.06.94zm-11 1L8.5 8.5l.94-2.06 2.06-.94-2.06-.94L8.5 2.5l-.94 2.06-2.06.94zm10 10l.94 2.06.94-2.06 2.06-.94-2.06-.94-.94-2.06-.94 2.06-2.06.94z\"/><path d=\"M17.41 7.96l-1.37-1.37c-.4-.4-.92-.59-1.43-.59-.52 0-1.04.2-1.43.59L10.3 9.45l-7.72 7.72c-.78.78-.78 2.05 0 2.83L4 21.41c.39.39.9.59 1.41.59.51 0 1.02-.2 1.41-.59l7.78-7.78 2.81-2.81c.8-.78.8-2.07 0-2.86zM5.41 20L4 18.59l7.72-7.72 1.47 1.35L5.41 20z\"/>\n",
              "  </svg>\n",
              "      </button>\n",
              "      \n",
              "  <style>\n",
              "    .colab-df-container {\n",
              "      display:flex;\n",
              "      flex-wrap:wrap;\n",
              "      gap: 12px;\n",
              "    }\n",
              "\n",
              "    .colab-df-convert {\n",
              "      background-color: #E8F0FE;\n",
              "      border: none;\n",
              "      border-radius: 50%;\n",
              "      cursor: pointer;\n",
              "      display: none;\n",
              "      fill: #1967D2;\n",
              "      height: 32px;\n",
              "      padding: 0 0 0 0;\n",
              "      width: 32px;\n",
              "    }\n",
              "\n",
              "    .colab-df-convert:hover {\n",
              "      background-color: #E2EBFA;\n",
              "      box-shadow: 0px 1px 2px rgba(60, 64, 67, 0.3), 0px 1px 3px 1px rgba(60, 64, 67, 0.15);\n",
              "      fill: #174EA6;\n",
              "    }\n",
              "\n",
              "    [theme=dark] .colab-df-convert {\n",
              "      background-color: #3B4455;\n",
              "      fill: #D2E3FC;\n",
              "    }\n",
              "\n",
              "    [theme=dark] .colab-df-convert:hover {\n",
              "      background-color: #434B5C;\n",
              "      box-shadow: 0px 1px 3px 1px rgba(0, 0, 0, 0.15);\n",
              "      filter: drop-shadow(0px 1px 2px rgba(0, 0, 0, 0.3));\n",
              "      fill: #FFFFFF;\n",
              "    }\n",
              "  </style>\n",
              "\n",
              "      <script>\n",
              "        const buttonEl =\n",
              "          document.querySelector('#df-f8637e22-a7c9-4226-a717-f6d551decdc0 button.colab-df-convert');\n",
              "        buttonEl.style.display =\n",
              "          google.colab.kernel.accessAllowed ? 'block' : 'none';\n",
              "\n",
              "        async function convertToInteractive(key) {\n",
              "          const element = document.querySelector('#df-f8637e22-a7c9-4226-a717-f6d551decdc0');\n",
              "          const dataTable =\n",
              "            await google.colab.kernel.invokeFunction('convertToInteractive',\n",
              "                                                     [key], {});\n",
              "          if (!dataTable) return;\n",
              "\n",
              "          const docLinkHtml = 'Like what you see? Visit the ' +\n",
              "            '<a target=\"_blank\" href=https://colab.research.google.com/notebooks/data_table.ipynb>data table notebook</a>'\n",
              "            + ' to learn more about interactive tables.';\n",
              "          element.innerHTML = '';\n",
              "          dataTable['output_type'] = 'display_data';\n",
              "          await google.colab.output.renderOutput(dataTable, element);\n",
              "          const docLink = document.createElement('div');\n",
              "          docLink.innerHTML = docLinkHtml;\n",
              "          element.appendChild(docLink);\n",
              "        }\n",
              "      </script>\n",
              "    </div>\n",
              "  </div>\n",
              "  "
            ]
          },
          "metadata": {},
          "execution_count": 2
        }
      ]
    },
    {
      "cell_type": "markdown",
      "source": [
        "## 2. Transform\n",
        "\n",
        "Transform is the process of transforming data, or changes to data. Generally like:\n",
        "\n",
        "1. Changing the value of a column to a new value,\n",
        "2. Creates a new column by leveraging another column,\n",
        "3. Transpose rows into columns (or vice versa),\n",
        "4. Changing the data format to a more standard form (for example, date and date-time columns which usually have non-standard values or cell phone numbers which usually have values that do not conform to the standard format), and others."
      ],
      "metadata": {
        "id": "kalkm-XY-re7"
      }
    },
    {
      "cell_type": "markdown",
      "source": [
        "### 2.1. Transform Part I - Postal Code\n",
        "\n",
        "There was a request from the logistics team that they needed the postal code of the participants to make sending trophies easier and faster. Therefore, create a new column named postal_code which contains information about the postal code taken from the participant's address (address column).\n",
        "\n",
        "Note that the zip code is at the very end of the address.\n",
        "\n",
        "So, I'll turn addresses into a raw string and use regex to extract postal codes from address data.\n"
      ],
      "metadata": {
        "id": "d6HuCOST_gW7"
      }
    },
    {
      "cell_type": "code",
      "source": [
        "df_participant['postal_code'] = df_participant['address'].str.extract(r'(\\d+)$')"
      ],
      "metadata": {
        "id": "7np17QFh-ZVi"
      },
      "execution_count": 3,
      "outputs": []
    },
    {
      "cell_type": "code",
      "source": [
        "df_participant['postal_code'].head()"
      ],
      "metadata": {
        "colab": {
          "base_uri": "https://localhost:8080/"
        },
        "id": "TBZSM4KmAZ5v",
        "outputId": "f461befa-e861-45ee-97fa-81b5edb2870e"
      },
      "execution_count": 4,
      "outputs": [
        {
          "output_type": "execute_result",
          "data": {
            "text/plain": [
              "0    80734\n",
              "1    09434\n",
              "2    57739\n",
              "3    76156\n",
              "4    70074\n",
              "Name: postal_code, dtype: object"
            ]
          },
          "metadata": {},
          "execution_count": 4
        }
      ]
    },
    {
      "cell_type": "markdown",
      "source": [
        "### 2.2 Transform Part II - City\n",
        "\n",
        "In addition to the postal code, they also require the city of the participant.\n",
        "\n",
        "To provide this information, I will create a new column named city which is obtained from the address column. It is assumed that the city is a set of characters that appear after the street number followed by \\n (newline character)."
      ],
      "metadata": {
        "id": "1OAEQtYVApEz"
      }
    },
    {
      "cell_type": "code",
      "source": [
        "df_participant['city'] = df_participant['address'].str.extract(r'(?<=\\n)(\\w+)(?=,)') "
      ],
      "metadata": {
        "id": "CgreCpMOAcgs"
      },
      "execution_count": 5,
      "outputs": []
    },
    {
      "cell_type": "code",
      "source": [
        "df_participant['city']"
      ],
      "metadata": {
        "colab": {
          "base_uri": "https://localhost:8080/"
        },
        "id": "PBUYJyDLBN0L",
        "outputId": "0aff7021-962f-4952-c715-951f74b7fd33"
      },
      "execution_count": 6,
      "outputs": [
        {
          "output_type": "execute_result",
          "data": {
            "text/plain": [
              "0              Medan\n",
              "1         Prabumulih\n",
              "2              Ambon\n",
              "3       Lubuklinggau\n",
              "4             Kediri\n",
              "            ...     \n",
              "4995         Cirebon\n",
              "4996           Bogor\n",
              "4997    Tanjungbalai\n",
              "4998          Manado\n",
              "4999         Bontang\n",
              "Name: city, Length: 5000, dtype: object"
            ]
          },
          "metadata": {},
          "execution_count": 6
        }
      ]
    },
    {
      "cell_type": "markdown",
      "source": [
        "### 2.3 Transform Part III - Github\n",
        "\n",
        "One of the parameters to find out what projects the participants have worked on is from their git repository.\n",
        "\n",
        "In this case, we use the GitHub profile as the parameter. My task is to create a new column named github_profile which is the participant's GitHub profile link.\n",
        "\n",
        "Note that their GitHub profile is a lowercase concatenation of first_name and last_name.\n"
      ],
      "metadata": {
        "id": "YxwPgFOTBv-1"
      }
    },
    {
      "cell_type": "code",
      "source": [
        "df_participant['github_profile'] = 'https://github.com/' + df_participant['first_name'].str.lower() + df_participant['last_name'].str.lower()"
      ],
      "metadata": {
        "id": "fhLCJBk1BQyB"
      },
      "execution_count": 7,
      "outputs": []
    },
    {
      "cell_type": "code",
      "source": [
        "df_participant['github_profile'].head()"
      ],
      "metadata": {
        "colab": {
          "base_uri": "https://localhost:8080/"
        },
        "id": "mVPpEi0HB5xp",
        "outputId": "b6ea2f19-3e3d-400b-a3d7-61c23c38b28c"
      },
      "execution_count": 8,
      "outputs": [
        {
          "output_type": "execute_result",
          "data": {
            "text/plain": [
              "0      https://github.com/citranurdiyanti\n",
              "1         https://github.com/arissetiawan\n",
              "2    https://github.com/corneliahandayani\n",
              "3          https://github.com/solehrajasa\n",
              "4           https://github.com/viviastuti\n",
              "Name: github_profile, dtype: object"
            ]
          },
          "metadata": {},
          "execution_count": 8
        }
      ]
    },
    {
      "cell_type": "markdown",
      "source": [
        "### 2.4 Transform Part IV - Mobile Number\n",
        "\n",
        "If I look in more detail, it turns out that the cellphone numbers in our CSV data have different formats. Therefore, I need to clean the cellphone number data so that it has the same format.  In this case, I'll equate the format to the rules:\n",
        "\n",
        "1. If the HP number prefix is the number 62 or +62 which is the Indonesian telephone code, then it is translated to 0.\n",
        "2. No punctuation such as opening bracket, closing bracket, dash⟶ ()-\n",
        "3. There is no space in the column name for the cell phone number to store the cleaning results for the cell phone number, namely cleaned_phone_number\n"
      ],
      "metadata": {
        "id": "NAarMtRZCfDK"
      }
    },
    {
      "cell_type": "code",
      "source": [
        "df_participant['cleaned_phone_number'] = df_participant['phone_number'].str.replace(r'^(\\+62|62)', '0')"
      ],
      "metadata": {
        "id": "hU_n6gt2B7mb"
      },
      "execution_count": null,
      "outputs": []
    },
    {
      "cell_type": "code",
      "source": [
        "df_participant['cleaned_phone_number'] = df_participant['cleaned_phone_number'].str.replace(r'[()-]', '')"
      ],
      "metadata": {
        "id": "j9OlLyCwCwFb"
      },
      "execution_count": null,
      "outputs": []
    },
    {
      "cell_type": "code",
      "source": [
        "df_participant['cleaned_phone_number'] = df_participant['cleaned_phone_number'].str.replace(r'\\s+', '')"
      ],
      "metadata": {
        "id": "XqnZmK_kC4l1"
      },
      "execution_count": null,
      "outputs": []
    },
    {
      "cell_type": "code",
      "source": [
        "df_participant['cleaned_phone_number']"
      ],
      "metadata": {
        "colab": {
          "base_uri": "https://localhost:8080/"
        },
        "id": "-aw_fq0jC7gC",
        "outputId": "3659f3a1-cafa-4b3c-be61-846653df2a2e"
      },
      "execution_count": 12,
      "outputs": [
        {
          "output_type": "execute_result",
          "data": {
            "text/plain": [
              "0        01510812706\n",
              "1        00364617027\n",
              "2         0898336695\n",
              "3        04183294756\n",
              "4         0812511835\n",
              "            ...     \n",
              "4995     00507958398\n",
              "4996    004439630055\n",
              "4997    004082167689\n",
              "4998    007513803352\n",
              "4999     00664148791\n",
              "Name: cleaned_phone_number, Length: 5000, dtype: object"
            ]
          },
          "metadata": {},
          "execution_count": 12
        }
      ]
    },
    {
      "cell_type": "markdown",
      "source": [
        "### 2.5 Transform Part V - Team Name\n",
        "\n",
        "The dataset currently does not contain team names, and apparently, the Data Analyst team requires information regarding the team names of each participant.\n",
        "\n",
        "It is known that the team name is a combination of values from the first_name, last_name, country, and institute columns.\n",
        "\n",
        "My task is to create a new column with the name team_name which contains the team name information from the participants.\n"
      ],
      "metadata": {
        "id": "SJ0VLf4XDU87"
      }
    },
    {
      "cell_type": "code",
      "source": [
        "def func(col):\n",
        "    abbrev_name = \"%s%s\"%(col['first_name'][0],col['last_name'][0]) # Abbreviation of First Name and Last Name by taking the first letter\n",
        "    country = col['country']\n",
        "    abbrev_institute = '%s'%(''.join(list(map(lambda word: word[0], col['institute'].split())))) # Abbreviation of value from institute column\n",
        "    return \"%s-%s-%s\"%(abbrev_name,country,abbrev_institute)\n",
        "\n",
        "df_participant['team_name'] = df_participant.apply(func, axis=1)"
      ],
      "metadata": {
        "id": "KoFQ3HIlC-if"
      },
      "execution_count": 13,
      "outputs": []
    },
    {
      "cell_type": "code",
      "source": [
        "df_participant['team_name']"
      ],
      "metadata": {
        "colab": {
          "base_uri": "https://localhost:8080/"
        },
        "id": "Z5uIGvYXD9KH",
        "outputId": "2e490c9f-5320-40ef-a61f-89c535110d99"
      },
      "execution_count": 14,
      "outputs": [
        {
          "output_type": "execute_result",
          "data": {
            "text/plain": [
              "0          CN-Georgia-UPM\n",
              "1       AS-Korea Utara-UD\n",
              "2           CH-Komoro-UHP\n",
              "3          SR-Eritrea-PTY\n",
              "4         VA-Aljazair-PHR\n",
              "              ...        \n",
              "4995     ML-Hongaria-ITSN\n",
              "4996     IR-Norwegia-CSHT\n",
              "4997        IN-Ghana-UKWM\n",
              "4998       CN-Gambia-CP(T\n",
              "4999     DM-Singapura-PLK\n",
              "Name: team_name, Length: 5000, dtype: object"
            ]
          },
          "metadata": {},
          "execution_count": 14
        }
      ]
    },
    {
      "cell_type": "markdown",
      "source": [
        "### 2.6 Transform Part VI - Email\n",
        "After reviewing the participants' data, it turned out that there was one piece of information that was important but not yet available, and that was email.\n",
        "\n",
        "I as a Data Engineer am asked to provide e-mail information from participants with the rules that the e-mail format is as follows:\n",
        "\n",
        "Email formats:\n",
        "xxyy@aa.bb.[ac/com].[cc]\n",
        "\n",
        "Information:\n",
        "xx -> first name (first_name) in lowercase\n",
        "yy -> last name (last_name) in lowercase\n",
        "aa -> institution name\n",
        "\n",
        "For bb and cc values follow the value of aa. The rules:\n",
        "- If the institution is a University, then\n",
        "   bb -> the combination of the first letters of each word of the university name in lowercase\n",
        "   Then, followed by .ac indicating the academy/study institution and followed by the cc pattern\n",
        "- If the institution is not a University, then\n",
        "   bb -> the combination of the first letters of each word of the institution name in lowercase\n",
        "   Then, followed by .com. Please note that the cc pattern does not apply to this condition\n",
        "\n",
        "cc -> is the country of origin of the participant, as for the rules:\n",
        "- If the number of words in that country is more than 1 then take the abbreviation of that country in lowercase\n",
        "- However, if the number of words is only 1 then take the first 3 letters of the country in lowercase\n",
        "\n",
        "Example:\n",
        "   - First name: Image\n",
        "   - Last name: Nurdiyanti\n",
        "   - Institution: UD Prakasa Mandasari\n",
        "   - Country: Georgia\n",
        "   - So, the email is: citranurdiyanti@upm.com\n",
        "---\n",
        "   - First name: Ares\n",
        "   - Last name: Setiawan\n",
        "   - Institution: Diponegoro University\n",
        "   - Country: North Korea\n",
        "   - So, Email: arissetiawan@ud.ac.ku\n"
      ],
      "metadata": {
        "id": "G9-oQ2CcIyuA"
      }
    },
    {
      "cell_type": "code",
      "source": [
        "def func(col):\n",
        "    first_name_lower = col['first_name'].lower()\n",
        "    last_name_lower = col['last_name'].lower()\n",
        "    institute = ''.join(list(map(lambda word: word[0], col['institute'].lower().split()))) #Abbreviation of company name in lowercase\n",
        "\n",
        "    if 'Universitas' in col['institute']:\n",
        "        if len(col['country'].split()) > 1: #Condition to check whether the number of words from the country is more than 1\n",
        "            country = ''.join(list(map(lambda word: word[0], col['country'].lower().split())))\n",
        "        else:\n",
        "            country = col['country'][:3].lower()\n",
        "        return \"%s%s@%s.ac.%s\"%(first_name_lower,last_name_lower,institute,country)\n",
        "\n",
        "    return \"%s%s@%s.com\"%(first_name_lower,last_name_lower,institute)\n",
        "\n",
        "df_participant['email'] = df_participant.apply(func, axis=1)"
      ],
      "metadata": {
        "id": "BVQo7OLxECF-"
      },
      "execution_count": 15,
      "outputs": []
    },
    {
      "cell_type": "code",
      "source": [
        "df_participant['email']"
      ],
      "metadata": {
        "colab": {
          "base_uri": "https://localhost:8080/"
        },
        "id": "Jcu7VjsqKjTz",
        "outputId": "5185fb5f-fd28-4284-cd9d-be28027ccda1"
      },
      "execution_count": 16,
      "outputs": [
        {
          "output_type": "execute_result",
          "data": {
            "text/plain": [
              "0         citranurdiyanti@upm.com\n",
              "1           arissetiawan@ud.ac.ku\n",
              "2       corneliahandayani@uhp.com\n",
              "3             solehrajasa@pty.com\n",
              "4              viviastuti@phr.com\n",
              "                  ...            \n",
              "4995       mitralatupono@itsn.com\n",
              "4996      indahrahmawati@csht.com\n",
              "4997    irsadnajmudin@ukwm.ac.gha\n",
              "4998       carlanasyidah@cp(t.com\n",
              "4999       darmanamaryadi@plk.com\n",
              "Name: email, Length: 5000, dtype: object"
            ]
          },
          "metadata": {},
          "execution_count": 16
        }
      ]
    },
    {
      "cell_type": "markdown",
      "source": [
        "### 2.7 Transform Part VII - Date of Birth\n",
        "MySQL is one of the most popular databases and is used to store data in the form of tables, including the processed data that we have done which can later be entered into MySQL.\n",
        "\n",
        "Even so, there is a rule from MySQL regarding the date format they can accept, namely YYYY-MM-DD with the following information:\n",
        "\n",
        "YYYY: 4 digits for year MM: 2 digits for month DD: 2 digits for date Example: 2021-04-07\n",
        "\n",
        "If we look again at the date of birth column, it can be seen that the value does not match the DATE format from MySQL\n",
        "\n",
        "Therefore, format the birth_date column to YYYY-MM-DD and store it in the same column."
      ],
      "metadata": {
        "id": "nHG6thAALKH1"
      }
    },
    {
      "cell_type": "code",
      "source": [
        "df_participant['birth_date'] = pd.to_datetime(df_participant['birth_date'], format='%d %b %Y')"
      ],
      "metadata": {
        "id": "OJEOybbrKl_5"
      },
      "execution_count": 17,
      "outputs": []
    },
    {
      "cell_type": "code",
      "source": [
        "df_participant['birth_date']"
      ],
      "metadata": {
        "colab": {
          "base_uri": "https://localhost:8080/"
        },
        "id": "uzkdUL6sLe7c",
        "outputId": "28946e34-c882-4247-c829-fe451be84a7b"
      },
      "execution_count": 18,
      "outputs": [
        {
          "output_type": "execute_result",
          "data": {
            "text/plain": [
              "0      1991-02-05\n",
              "1      1993-01-11\n",
              "2      1993-07-31\n",
              "3      1991-11-04\n",
              "4      2003-01-22\n",
              "          ...    \n",
              "4995   2000-04-27\n",
              "4996   1996-03-06\n",
              "4997   2003-02-14\n",
              "4998   1994-08-22\n",
              "4999   2002-02-09\n",
              "Name: birth_date, Length: 5000, dtype: datetime64[ns]"
            ]
          },
          "metadata": {},
          "execution_count": 18
        }
      ]
    },
    {
      "cell_type": "markdown",
      "source": [
        "### 2.8 Transform Part VIII - Competition List Dates\n",
        "Besides having rules regarding the DATE format, MySQL also provides rules for data of type DATETIME, namely YYYY-MM-DD HH:mm:ss with the following information:\n",
        "\n",
        "- YYYY: 4 digits indicating the year\n",
        "- MM: 2 digits indicating the month\n",
        "- DD: 2 digits indicating the date\n",
        "- HH: 2 digits indicating the hour\n",
        "- mm: 2 digits indicating the minute\n",
        "- ss: 2 digits indicating the second An example would be: 2021-04-07 15:10:55\n",
        "\n",
        "Because the data regarding participant registration time (register_time) is not in the proper format.\n",
        "\n",
        "Therefore, my task is to change the register_time to the DATETIME format according to the rules of MySQL and save the results to the register_at column."
      ],
      "metadata": {
        "id": "bQO_sJTxL3Rm"
      }
    },
    {
      "cell_type": "code",
      "source": [
        "df_participant['register_at'] = pd.to_datetime(df_participant['register_time'], unit='s')"
      ],
      "metadata": {
        "id": "EB-vm8rtLgyL"
      },
      "execution_count": 19,
      "outputs": []
    },
    {
      "cell_type": "code",
      "source": [
        "df_participant['register_at']"
      ],
      "metadata": {
        "colab": {
          "base_uri": "https://localhost:8080/"
        },
        "id": "PcCxWIr6MMCn",
        "outputId": "ac21d37b-4550-4667-ff07-b4936ed71c1a"
      },
      "execution_count": 20,
      "outputs": [
        {
          "output_type": "execute_result",
          "data": {
            "text/plain": [
              "0      2021-04-05 14:47:26\n",
              "1      2021-04-05 14:46:58\n",
              "2      2021-04-05 14:47:15\n",
              "3      2021-04-05 14:47:14\n",
              "4      2021-04-05 14:46:50\n",
              "               ...        \n",
              "4995   2021-04-05 14:46:16\n",
              "4996   2021-04-05 14:46:48\n",
              "4997   2021-04-05 14:46:06\n",
              "4998   2021-04-05 14:46:45\n",
              "4999   2021-04-05 14:46:51\n",
              "Name: register_at, Length: 5000, dtype: datetime64[ns]"
            ]
          },
          "metadata": {},
          "execution_count": 20
        }
      ]
    },
    {
      "cell_type": "markdown",
      "source": [
        "Looking back, my current dataset is different from the previous extract process. There are some additional columns that take advantage of other column values.\n",
        "\n",
        "My dataset currently contains the columns:\n",
        "\n",
        "1. participant_id: ID of the hackathon participant. This column is unique so participants must have different IDs\n",
        "2. first_name: participant's first name\n",
        "3. last_name: participant's last name\n",
        "4. birth_date: participant's date of birth (formatted to YYYY-MM-DD)\n",
        "5. address: the participant's residential address\n",
        "6. phone_number: Participant's cellphone/phone number\n",
        "7. country: the participant's country of origin\n",
        "8. institute: current participating institution, can be a company name or university name\n",
        "9. occupation: the participant's current occupation\n",
        "10. register_time: the time the participant registers for the hackathon in seconds\n",
        "11. team_name: the name of the participating team (a combination of first name, last name, country, and institution)\n",
        "12. postal_code: postal code of the participant's address (taken from the address field)\n",
        "13. city: city of the participant (taken from the address field)\n",
        "14. github_profile: link to the participant's GitHub profile (a combination of first name and last name)\n",
        "15. email: participant's email address (a combination of first name, last name, institution, and country)\n",
        "16. cleaned_phone_number: participant's cellphone/phone number (already more in line with the telephone number format)\n",
        "17. register_at: date and time the participant registers (already in DATETIME format)"
      ],
      "metadata": {
        "id": "KUKzUfs5M4tT"
      }
    },
    {
      "cell_type": "code",
      "source": [
        "df_participant"
      ],
      "metadata": {
        "colab": {
          "base_uri": "https://localhost:8080/",
          "height": 869
        },
        "id": "iN9orMt0MPGn",
        "outputId": "9297d885-8e27-4325-d642-00d8c4ee9b3b"
      },
      "execution_count": 21,
      "outputs": [
        {
          "output_type": "execute_result",
          "data": {
            "text/plain": [
              "                            participant_id first_name   last_name birth_date  \\\n",
              "0     bd9b6f88-b84f-4c4d-90f8-b67fe2f1a29a      Citra  Nurdiyanti 1991-02-05   \n",
              "1     7dfe3391-6f40-47b6-b4db-0c76ebaf5fc3       Aris    Setiawan 1993-01-11   \n",
              "2     19582d7f-b824-4fe5-a517-d5bf573fc768   Cornelia   Handayani 1993-07-31   \n",
              "3     aeb6d817-25f3-4867-8a74-8d92e0a0f633      Soleh      Rajasa 1991-11-04   \n",
              "4     1fdabdd9-5444-4c97-87b2-fe8833ad0d27       Vivi      Astuti 2003-01-22   \n",
              "...                                    ...        ...         ...        ...   \n",
              "4995  5f084245-58cb-4360-8cff-112f06f7214e      Mitra    Latupono 2000-04-27   \n",
              "4996  fc6e142a-3f66-4330-9975-8c1dc7f9bb03      Indah   Rahmawati 1996-03-06   \n",
              "4997  4521ff9f-4aec-401b-84aa-a4e6fc6549a4      Irsad    Najmudin 2003-02-14   \n",
              "4998  1c91596e-427c-44a7-b7d0-974f44e18381      Carla    Nasyidah 1994-08-22   \n",
              "4999  5d682e84-bcb5-43e9-8ce0-615364f5376a    Darmana     Maryadi 2002-02-09   \n",
              "\n",
              "                                                address         phone_number  \\\n",
              "0              Gg. Monginsidi No. 08\\nMedan, Aceh 80734      (0151) 081 2706   \n",
              "1        Gg. Rajawali Timur No. 7\\nPrabumulih, MA 09434   +62 (036) 461 7027   \n",
              "2                Jalan Kebonjati No. 0\\nAmbon, SS 57739         089 833 6695   \n",
              "3       Jl. Yos Sudarso No. 109\\nLubuklinggau, SR 76156   +62 (418) 329-4756   \n",
              "4     Jalan Gardujati No. 53\\nKediri, Sulawesi Tenga...           0812511835   \n",
              "...                                                 ...                  ...   \n",
              "4995            Jl. Monginsidi No. 5\\nCirebon, BB 50268   +62 (050) 795-8398   \n",
              "4996              Gang Joyoboyo No. 73\\nBogor, BT 57434  +62 (0443) 963 0055   \n",
              "4997   Jalan PHH. Mustofa No. 0\\nTanjungbalai, MU 95312  +62 (0408) 216-7689   \n",
              "4998  Jl. H.J Maemunah No. 955\\nManado, Kepulauan Ba...  +62 (0751) 380 3352   \n",
              "4999  Jalan Erlangga No. 76\\nBontang, Sulawesi Tengg...   +62 (066) 414 8791   \n",
              "\n",
              "          country                            institute  \\\n",
              "0         Georgia                 UD Prakasa Mandasari   \n",
              "1     Korea Utara               Universitas Diponegoro   \n",
              "2          Komoro             UD Hardiansyah Puspasari   \n",
              "3         Eritrea            Perum Tampubolon Yuliarti   \n",
              "4        Aljazair               PT Hardiansyah Rahimah   \n",
              "...           ...                                  ...   \n",
              "4995     Hongaria  Institut Teknologi Sepuluh Nopember   \n",
              "4996     Norwegia               CV Safitri Hastuti Tbk   \n",
              "4997        Ghana   Universitas Katolik Widya Manadala   \n",
              "4998       Gambia             CV Permadi (Persero) Tbk   \n",
              "4999    Singapura             Perum Laksita Kuswandari   \n",
              "\n",
              "                          occupation  register_time postal_code          city  \\\n",
              "0     Business Intelligence Engineer   1.617634e+09       80734         Medan   \n",
              "1                  Frontend Engineer   1.617634e+09       09434    Prabumulih   \n",
              "2                   Business Analyst   1.617634e+09       57739         Ambon   \n",
              "3                    DevOps Engineer   1.617634e+09       76156  Lubuklinggau   \n",
              "4                       Data Analyst   1.617634e+09       70074        Kediri   \n",
              "...                              ...            ...         ...           ...   \n",
              "4995  Business Intelligence Engineer   1.617634e+09       50268       Cirebon   \n",
              "4996                   Data Engineer   1.617634e+09       57434         Bogor   \n",
              "4997              Fullstack Engineer   1.617634e+09       95312  Tanjungbalai   \n",
              "4998              Fullstack Engineer   1.617634e+09       80657        Manado   \n",
              "4999                 DevOps Engineer   1.617634e+09       41134       Bontang   \n",
              "\n",
              "                            github_profile cleaned_phone_number  \\\n",
              "0       https://github.com/citranurdiyanti          01510812706   \n",
              "1          https://github.com/arissetiawan          00364617027   \n",
              "2     https://github.com/corneliahandayani           0898336695   \n",
              "3           https://github.com/solehrajasa          04183294756   \n",
              "4            https://github.com/viviastuti           0812511835   \n",
              "...                                    ...                  ...   \n",
              "4995      https://github.com/mitralatupono          00507958398   \n",
              "4996     https://github.com/indahrahmawati         004439630055   \n",
              "4997      https://github.com/irsadnajmudin         004082167689   \n",
              "4998      https://github.com/carlanasyidah         007513803352   \n",
              "4999     https://github.com/darmanamaryadi          00664148791   \n",
              "\n",
              "              team_name                      email         register_at  \n",
              "0        CN-Georgia-UPM    citranurdiyanti@upm.com 2021-04-05 14:47:26  \n",
              "1     AS-Korea Utara-UD      arissetiawan@ud.ac.ku 2021-04-05 14:46:58  \n",
              "2         CH-Komoro-UHP  corneliahandayani@uhp.com 2021-04-05 14:47:15  \n",
              "3        SR-Eritrea-PTY        solehrajasa@pty.com 2021-04-05 14:47:14  \n",
              "4       VA-Aljazair-PHR         viviastuti@phr.com 2021-04-05 14:46:50  \n",
              "...                 ...                        ...                 ...  \n",
              "4995   ML-Hongaria-ITSN     mitralatupono@itsn.com 2021-04-05 14:46:16  \n",
              "4996   IR-Norwegia-CSHT    indahrahmawati@csht.com 2021-04-05 14:46:48  \n",
              "4997      IN-Ghana-UKWM  irsadnajmudin@ukwm.ac.gha 2021-04-05 14:46:06  \n",
              "4998     CN-Gambia-CP(T     carlanasyidah@cp(t.com 2021-04-05 14:46:45  \n",
              "4999   DM-Singapura-PLK     darmanamaryadi@plk.com 2021-04-05 14:46:51  \n",
              "\n",
              "[5000 rows x 17 columns]"
            ],
            "text/html": [
              "\n",
              "  <div id=\"df-5ee240e9-d57d-4fd5-8178-488c7b516413\">\n",
              "    <div class=\"colab-df-container\">\n",
              "      <div>\n",
              "<style scoped>\n",
              "    .dataframe tbody tr th:only-of-type {\n",
              "        vertical-align: middle;\n",
              "    }\n",
              "\n",
              "    .dataframe tbody tr th {\n",
              "        vertical-align: top;\n",
              "    }\n",
              "\n",
              "    .dataframe thead th {\n",
              "        text-align: right;\n",
              "    }\n",
              "</style>\n",
              "<table border=\"1\" class=\"dataframe\">\n",
              "  <thead>\n",
              "    <tr style=\"text-align: right;\">\n",
              "      <th></th>\n",
              "      <th>participant_id</th>\n",
              "      <th>first_name</th>\n",
              "      <th>last_name</th>\n",
              "      <th>birth_date</th>\n",
              "      <th>address</th>\n",
              "      <th>phone_number</th>\n",
              "      <th>country</th>\n",
              "      <th>institute</th>\n",
              "      <th>occupation</th>\n",
              "      <th>register_time</th>\n",
              "      <th>postal_code</th>\n",
              "      <th>city</th>\n",
              "      <th>github_profile</th>\n",
              "      <th>cleaned_phone_number</th>\n",
              "      <th>team_name</th>\n",
              "      <th>email</th>\n",
              "      <th>register_at</th>\n",
              "    </tr>\n",
              "  </thead>\n",
              "  <tbody>\n",
              "    <tr>\n",
              "      <th>0</th>\n",
              "      <td>bd9b6f88-b84f-4c4d-90f8-b67fe2f1a29a</td>\n",
              "      <td>Citra</td>\n",
              "      <td>Nurdiyanti</td>\n",
              "      <td>1991-02-05</td>\n",
              "      <td>Gg. Monginsidi No. 08\\nMedan, Aceh 80734</td>\n",
              "      <td>(0151) 081 2706</td>\n",
              "      <td>Georgia</td>\n",
              "      <td>UD Prakasa Mandasari</td>\n",
              "      <td>Business Intelligence Engineer</td>\n",
              "      <td>1.617634e+09</td>\n",
              "      <td>80734</td>\n",
              "      <td>Medan</td>\n",
              "      <td>https://github.com/citranurdiyanti</td>\n",
              "      <td>01510812706</td>\n",
              "      <td>CN-Georgia-UPM</td>\n",
              "      <td>citranurdiyanti@upm.com</td>\n",
              "      <td>2021-04-05 14:47:26</td>\n",
              "    </tr>\n",
              "    <tr>\n",
              "      <th>1</th>\n",
              "      <td>7dfe3391-6f40-47b6-b4db-0c76ebaf5fc3</td>\n",
              "      <td>Aris</td>\n",
              "      <td>Setiawan</td>\n",
              "      <td>1993-01-11</td>\n",
              "      <td>Gg. Rajawali Timur No. 7\\nPrabumulih, MA 09434</td>\n",
              "      <td>+62 (036) 461 7027</td>\n",
              "      <td>Korea Utara</td>\n",
              "      <td>Universitas Diponegoro</td>\n",
              "      <td>Frontend Engineer</td>\n",
              "      <td>1.617634e+09</td>\n",
              "      <td>09434</td>\n",
              "      <td>Prabumulih</td>\n",
              "      <td>https://github.com/arissetiawan</td>\n",
              "      <td>00364617027</td>\n",
              "      <td>AS-Korea Utara-UD</td>\n",
              "      <td>arissetiawan@ud.ac.ku</td>\n",
              "      <td>2021-04-05 14:46:58</td>\n",
              "    </tr>\n",
              "    <tr>\n",
              "      <th>2</th>\n",
              "      <td>19582d7f-b824-4fe5-a517-d5bf573fc768</td>\n",
              "      <td>Cornelia</td>\n",
              "      <td>Handayani</td>\n",
              "      <td>1993-07-31</td>\n",
              "      <td>Jalan Kebonjati No. 0\\nAmbon, SS 57739</td>\n",
              "      <td>089 833 6695</td>\n",
              "      <td>Komoro</td>\n",
              "      <td>UD Hardiansyah Puspasari</td>\n",
              "      <td>Business Analyst</td>\n",
              "      <td>1.617634e+09</td>\n",
              "      <td>57739</td>\n",
              "      <td>Ambon</td>\n",
              "      <td>https://github.com/corneliahandayani</td>\n",
              "      <td>0898336695</td>\n",
              "      <td>CH-Komoro-UHP</td>\n",
              "      <td>corneliahandayani@uhp.com</td>\n",
              "      <td>2021-04-05 14:47:15</td>\n",
              "    </tr>\n",
              "    <tr>\n",
              "      <th>3</th>\n",
              "      <td>aeb6d817-25f3-4867-8a74-8d92e0a0f633</td>\n",
              "      <td>Soleh</td>\n",
              "      <td>Rajasa</td>\n",
              "      <td>1991-11-04</td>\n",
              "      <td>Jl. Yos Sudarso No. 109\\nLubuklinggau, SR 76156</td>\n",
              "      <td>+62 (418) 329-4756</td>\n",
              "      <td>Eritrea</td>\n",
              "      <td>Perum Tampubolon Yuliarti</td>\n",
              "      <td>DevOps Engineer</td>\n",
              "      <td>1.617634e+09</td>\n",
              "      <td>76156</td>\n",
              "      <td>Lubuklinggau</td>\n",
              "      <td>https://github.com/solehrajasa</td>\n",
              "      <td>04183294756</td>\n",
              "      <td>SR-Eritrea-PTY</td>\n",
              "      <td>solehrajasa@pty.com</td>\n",
              "      <td>2021-04-05 14:47:14</td>\n",
              "    </tr>\n",
              "    <tr>\n",
              "      <th>4</th>\n",
              "      <td>1fdabdd9-5444-4c97-87b2-fe8833ad0d27</td>\n",
              "      <td>Vivi</td>\n",
              "      <td>Astuti</td>\n",
              "      <td>2003-01-22</td>\n",
              "      <td>Jalan Gardujati No. 53\\nKediri, Sulawesi Tenga...</td>\n",
              "      <td>0812511835</td>\n",
              "      <td>Aljazair</td>\n",
              "      <td>PT Hardiansyah Rahimah</td>\n",
              "      <td>Data Analyst</td>\n",
              "      <td>1.617634e+09</td>\n",
              "      <td>70074</td>\n",
              "      <td>Kediri</td>\n",
              "      <td>https://github.com/viviastuti</td>\n",
              "      <td>0812511835</td>\n",
              "      <td>VA-Aljazair-PHR</td>\n",
              "      <td>viviastuti@phr.com</td>\n",
              "      <td>2021-04-05 14:46:50</td>\n",
              "    </tr>\n",
              "    <tr>\n",
              "      <th>...</th>\n",
              "      <td>...</td>\n",
              "      <td>...</td>\n",
              "      <td>...</td>\n",
              "      <td>...</td>\n",
              "      <td>...</td>\n",
              "      <td>...</td>\n",
              "      <td>...</td>\n",
              "      <td>...</td>\n",
              "      <td>...</td>\n",
              "      <td>...</td>\n",
              "      <td>...</td>\n",
              "      <td>...</td>\n",
              "      <td>...</td>\n",
              "      <td>...</td>\n",
              "      <td>...</td>\n",
              "      <td>...</td>\n",
              "      <td>...</td>\n",
              "    </tr>\n",
              "    <tr>\n",
              "      <th>4995</th>\n",
              "      <td>5f084245-58cb-4360-8cff-112f06f7214e</td>\n",
              "      <td>Mitra</td>\n",
              "      <td>Latupono</td>\n",
              "      <td>2000-04-27</td>\n",
              "      <td>Jl. Monginsidi No. 5\\nCirebon, BB 50268</td>\n",
              "      <td>+62 (050) 795-8398</td>\n",
              "      <td>Hongaria</td>\n",
              "      <td>Institut Teknologi Sepuluh Nopember</td>\n",
              "      <td>Business Intelligence Engineer</td>\n",
              "      <td>1.617634e+09</td>\n",
              "      <td>50268</td>\n",
              "      <td>Cirebon</td>\n",
              "      <td>https://github.com/mitralatupono</td>\n",
              "      <td>00507958398</td>\n",
              "      <td>ML-Hongaria-ITSN</td>\n",
              "      <td>mitralatupono@itsn.com</td>\n",
              "      <td>2021-04-05 14:46:16</td>\n",
              "    </tr>\n",
              "    <tr>\n",
              "      <th>4996</th>\n",
              "      <td>fc6e142a-3f66-4330-9975-8c1dc7f9bb03</td>\n",
              "      <td>Indah</td>\n",
              "      <td>Rahmawati</td>\n",
              "      <td>1996-03-06</td>\n",
              "      <td>Gang Joyoboyo No. 73\\nBogor, BT 57434</td>\n",
              "      <td>+62 (0443) 963 0055</td>\n",
              "      <td>Norwegia</td>\n",
              "      <td>CV Safitri Hastuti Tbk</td>\n",
              "      <td>Data Engineer</td>\n",
              "      <td>1.617634e+09</td>\n",
              "      <td>57434</td>\n",
              "      <td>Bogor</td>\n",
              "      <td>https://github.com/indahrahmawati</td>\n",
              "      <td>004439630055</td>\n",
              "      <td>IR-Norwegia-CSHT</td>\n",
              "      <td>indahrahmawati@csht.com</td>\n",
              "      <td>2021-04-05 14:46:48</td>\n",
              "    </tr>\n",
              "    <tr>\n",
              "      <th>4997</th>\n",
              "      <td>4521ff9f-4aec-401b-84aa-a4e6fc6549a4</td>\n",
              "      <td>Irsad</td>\n",
              "      <td>Najmudin</td>\n",
              "      <td>2003-02-14</td>\n",
              "      <td>Jalan PHH. Mustofa No. 0\\nTanjungbalai, MU 95312</td>\n",
              "      <td>+62 (0408) 216-7689</td>\n",
              "      <td>Ghana</td>\n",
              "      <td>Universitas Katolik Widya Manadala</td>\n",
              "      <td>Fullstack Engineer</td>\n",
              "      <td>1.617634e+09</td>\n",
              "      <td>95312</td>\n",
              "      <td>Tanjungbalai</td>\n",
              "      <td>https://github.com/irsadnajmudin</td>\n",
              "      <td>004082167689</td>\n",
              "      <td>IN-Ghana-UKWM</td>\n",
              "      <td>irsadnajmudin@ukwm.ac.gha</td>\n",
              "      <td>2021-04-05 14:46:06</td>\n",
              "    </tr>\n",
              "    <tr>\n",
              "      <th>4998</th>\n",
              "      <td>1c91596e-427c-44a7-b7d0-974f44e18381</td>\n",
              "      <td>Carla</td>\n",
              "      <td>Nasyidah</td>\n",
              "      <td>1994-08-22</td>\n",
              "      <td>Jl. H.J Maemunah No. 955\\nManado, Kepulauan Ba...</td>\n",
              "      <td>+62 (0751) 380 3352</td>\n",
              "      <td>Gambia</td>\n",
              "      <td>CV Permadi (Persero) Tbk</td>\n",
              "      <td>Fullstack Engineer</td>\n",
              "      <td>1.617634e+09</td>\n",
              "      <td>80657</td>\n",
              "      <td>Manado</td>\n",
              "      <td>https://github.com/carlanasyidah</td>\n",
              "      <td>007513803352</td>\n",
              "      <td>CN-Gambia-CP(T</td>\n",
              "      <td>carlanasyidah@cp(t.com</td>\n",
              "      <td>2021-04-05 14:46:45</td>\n",
              "    </tr>\n",
              "    <tr>\n",
              "      <th>4999</th>\n",
              "      <td>5d682e84-bcb5-43e9-8ce0-615364f5376a</td>\n",
              "      <td>Darmana</td>\n",
              "      <td>Maryadi</td>\n",
              "      <td>2002-02-09</td>\n",
              "      <td>Jalan Erlangga No. 76\\nBontang, Sulawesi Tengg...</td>\n",
              "      <td>+62 (066) 414 8791</td>\n",
              "      <td>Singapura</td>\n",
              "      <td>Perum Laksita Kuswandari</td>\n",
              "      <td>DevOps Engineer</td>\n",
              "      <td>1.617634e+09</td>\n",
              "      <td>41134</td>\n",
              "      <td>Bontang</td>\n",
              "      <td>https://github.com/darmanamaryadi</td>\n",
              "      <td>00664148791</td>\n",
              "      <td>DM-Singapura-PLK</td>\n",
              "      <td>darmanamaryadi@plk.com</td>\n",
              "      <td>2021-04-05 14:46:51</td>\n",
              "    </tr>\n",
              "  </tbody>\n",
              "</table>\n",
              "<p>5000 rows × 17 columns</p>\n",
              "</div>\n",
              "      <button class=\"colab-df-convert\" onclick=\"convertToInteractive('df-5ee240e9-d57d-4fd5-8178-488c7b516413')\"\n",
              "              title=\"Convert this dataframe to an interactive table.\"\n",
              "              style=\"display:none;\">\n",
              "        \n",
              "  <svg xmlns=\"http://www.w3.org/2000/svg\" height=\"24px\"viewBox=\"0 0 24 24\"\n",
              "       width=\"24px\">\n",
              "    <path d=\"M0 0h24v24H0V0z\" fill=\"none\"/>\n",
              "    <path d=\"M18.56 5.44l.94 2.06.94-2.06 2.06-.94-2.06-.94-.94-2.06-.94 2.06-2.06.94zm-11 1L8.5 8.5l.94-2.06 2.06-.94-2.06-.94L8.5 2.5l-.94 2.06-2.06.94zm10 10l.94 2.06.94-2.06 2.06-.94-2.06-.94-.94-2.06-.94 2.06-2.06.94z\"/><path d=\"M17.41 7.96l-1.37-1.37c-.4-.4-.92-.59-1.43-.59-.52 0-1.04.2-1.43.59L10.3 9.45l-7.72 7.72c-.78.78-.78 2.05 0 2.83L4 21.41c.39.39.9.59 1.41.59.51 0 1.02-.2 1.41-.59l7.78-7.78 2.81-2.81c.8-.78.8-2.07 0-2.86zM5.41 20L4 18.59l7.72-7.72 1.47 1.35L5.41 20z\"/>\n",
              "  </svg>\n",
              "      </button>\n",
              "      \n",
              "  <style>\n",
              "    .colab-df-container {\n",
              "      display:flex;\n",
              "      flex-wrap:wrap;\n",
              "      gap: 12px;\n",
              "    }\n",
              "\n",
              "    .colab-df-convert {\n",
              "      background-color: #E8F0FE;\n",
              "      border: none;\n",
              "      border-radius: 50%;\n",
              "      cursor: pointer;\n",
              "      display: none;\n",
              "      fill: #1967D2;\n",
              "      height: 32px;\n",
              "      padding: 0 0 0 0;\n",
              "      width: 32px;\n",
              "    }\n",
              "\n",
              "    .colab-df-convert:hover {\n",
              "      background-color: #E2EBFA;\n",
              "      box-shadow: 0px 1px 2px rgba(60, 64, 67, 0.3), 0px 1px 3px 1px rgba(60, 64, 67, 0.15);\n",
              "      fill: #174EA6;\n",
              "    }\n",
              "\n",
              "    [theme=dark] .colab-df-convert {\n",
              "      background-color: #3B4455;\n",
              "      fill: #D2E3FC;\n",
              "    }\n",
              "\n",
              "    [theme=dark] .colab-df-convert:hover {\n",
              "      background-color: #434B5C;\n",
              "      box-shadow: 0px 1px 3px 1px rgba(0, 0, 0, 0.15);\n",
              "      filter: drop-shadow(0px 1px 2px rgba(0, 0, 0, 0.3));\n",
              "      fill: #FFFFFF;\n",
              "    }\n",
              "  </style>\n",
              "\n",
              "      <script>\n",
              "        const buttonEl =\n",
              "          document.querySelector('#df-5ee240e9-d57d-4fd5-8178-488c7b516413 button.colab-df-convert');\n",
              "        buttonEl.style.display =\n",
              "          google.colab.kernel.accessAllowed ? 'block' : 'none';\n",
              "\n",
              "        async function convertToInteractive(key) {\n",
              "          const element = document.querySelector('#df-5ee240e9-d57d-4fd5-8178-488c7b516413');\n",
              "          const dataTable =\n",
              "            await google.colab.kernel.invokeFunction('convertToInteractive',\n",
              "                                                     [key], {});\n",
              "          if (!dataTable) return;\n",
              "\n",
              "          const docLinkHtml = 'Like what you see? Visit the ' +\n",
              "            '<a target=\"_blank\" href=https://colab.research.google.com/notebooks/data_table.ipynb>data table notebook</a>'\n",
              "            + ' to learn more about interactive tables.';\n",
              "          element.innerHTML = '';\n",
              "          dataTable['output_type'] = 'display_data';\n",
              "          await google.colab.output.renderOutput(dataTable, element);\n",
              "          const docLink = document.createElement('div');\n",
              "          docLink.innerHTML = docLinkHtml;\n",
              "          element.appendChild(docLink);\n",
              "        }\n",
              "      </script>\n",
              "    </div>\n",
              "  </div>\n",
              "  "
            ]
          },
          "metadata": {},
          "execution_count": 21
        }
      ]
    },
    {
      "cell_type": "markdown",
      "source": [
        "## Load\n",
        "In this load section, the data that has been transformed in such a way that it fits the needs of the analyst team is entered back into the database, namely the Data Warehouse (DWH)."
      ],
      "metadata": {
        "id": "YhA0kyQpNlt3"
      }
    }
  ]
}
