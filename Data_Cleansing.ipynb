{
  "nbformat": 4,
  "nbformat_minor": 0,
  "metadata": {
    "colab": {
      "provenance": []
    },
    "kernelspec": {
      "name": "python3",
      "display_name": "Python 3"
    },
    "language_info": {
      "name": "python"
    }
  },
  "cells": [
    {
      "cell_type": "markdown",
      "source": [
        "#Data Cleansing Project in Telco Dataset\n",
        "\n",
        "##Introduction\n",
        "\n",
        "DQLab Telco is a Telco company that already has many branches spread everywhere. Since its establishment in 2019, DQLab Telco has consistently paid attention to its customer experience so that it will not be abandoned by customers.\n",
        "\n",
        "Even though it is only a little over a year old, DQLab Telco already has many customers who have switched subscriptions to competitors. The management wants to reduce the number of churn customers by using machine learning.\n",
        "\n",
        "Therefore, the Data Scientist team was asked to prepare data as well as create the right prediction model to determine whether customers will churn or not.\n",
        "\n",
        "So my task in this project is to perform Data Cleansing on June 2020 report, before this Data is used by the Data Scientist team.\n",
        "\n",
        "The step that I'll perform are:\n",
        "1. Find a valid Customer ID\n",
        "2. Handling missing values\n",
        "3. Handling outliers from all variables\n",
        "4. Standardize variables values\n"
      ],
      "metadata": {
        "id": "oUoYYxWWkixc"
      }
    },
    {
      "cell_type": "markdown",
      "source": [
        "##Library\n",
        "\n",
        "The library that I'll use in this project are:\n",
        "1. **Pandas** data frame to perform data cleansing\n",
        "2. **Matplotlib** for data visualization\n",
        "3. *Seaborn* for using a box plot"
      ],
      "metadata": {
        "id": "ek3O8Y_ipUC3"
      }
    },
    {
      "cell_type": "markdown",
      "source": [
        "##Dataset\n",
        "The dataset is in the CSV format and located at https://storage.googleapis.com/dqlab-dataset/dqlab_telco.csv'\n",
        "The dataset consists of these columns:\n",
        "* UpdatedAt Periode of Data taken\n",
        "* customerID Customer ID\n",
        "* gender Whether the customer is a male or a female (Male, Female)\n",
        "* SeniorCitizen Whether the customer is a senior citizen or not (1, 0)\n",
        "* Partner Whether the customer has a partner or not (Yes, No)\n",
        "* Dependents Whether the customer has dependents or not (Yes, No)\n",
        "* tenure Number of months the customer has stayed with the company\n",
        "* PhoneService Whether the customer has a phone service or not (Yes, No)\n",
        "* MultipleLines Whether the customer has multiple lines or not (Yes, No, No phone service)\n",
        "* InternetService Customer’s internet service provider (DSL, Fiber optic, No)\n",
        "* OnlineSecurity Whether the customer has online security or not (Yes, No, No internet service)\n",
        "* OnlineBackup Whether the customer has online backup or not (Yes, No, No internet service)\n",
        "* DeviceProtection Whether the customer has device protection or not (Yes, No, No internet service)\n",
        "* TechSupport Whether the customer has tech support or not (Yes, No, No internet service)\n",
        "* StreamingTV Whether the customer has streaming TV or not (Yes, No, No internet service)\n",
        "* StreamingMovies Whether the customer has streaming movies or not (Yes, No, No internet service)\n",
        "* Contract The contract term of the customer (Month-to-month, One year, Two year)\n",
        "* PaperlessBilling Whether the customer has paperless billing or not (Yes, No)\n",
        "* PaymentMethod The customer’s payment method (Electronic check, Mailed check, * Bank transfer (automatic), Credit card (automatic))\n",
        "* MonthlyCharges The amount charged to the customer monthly\n",
        "* TotalCharges The total amount charged to the customer\n",
        "* Churn Whether the customer churned or not (Yes or No)"
      ],
      "metadata": {
        "id": "SUnOAfmyrCoX"
      }
    },
    {
      "cell_type": "markdown",
      "source": [
        "##1. Import Library and Dataset\n",
        "\n",
        "The first step in this project is to import the library and dataset.\n",
        "\n",
        "After importing the dataset, I'll print the total columns and rows of this dataset, print 5 upper rows of the data, and find how many CustomerID that unique."
      ],
      "metadata": {
        "id": "r8osyk-Kq_Jb"
      }
    },
    {
      "cell_type": "code",
      "execution_count": 1,
      "metadata": {
        "id": "2vhgoPPpkaGA"
      },
      "outputs": [],
      "source": [
        "import pandas as pd\n",
        "import matplotlib.pyplot as plt\n",
        "import seaborn as sns\n",
        "pd.options.display.max_columns = 50\n",
        "# Importing Data Source\n",
        "df_load = pd.read_csv('https://storage.googleapis.com/dqlab-dataset/dqlab_telco.csv')"
      ]
    },
    {
      "cell_type": "code",
      "source": [
        "print(df_load.shape)"
      ],
      "metadata": {
        "colab": {
          "base_uri": "https://localhost:8080/"
        },
        "id": "rFK2-XiUpS1Y",
        "outputId": "11751aa1-60ac-4995-a7d4-0e59e75754b9"
      },
      "execution_count": 2,
      "outputs": [
        {
          "output_type": "stream",
          "name": "stdout",
          "text": [
            "(7113, 22)\n"
          ]
        }
      ]
    },
    {
      "cell_type": "code",
      "source": [
        "print(df_load.head(5))"
      ],
      "metadata": {
        "colab": {
          "base_uri": "https://localhost:8080/"
        },
        "id": "ySqxYko4oqbQ",
        "outputId": "4df53bad-8cae-4822-9877-11d79c329004"
      },
      "execution_count": 3,
      "outputs": [
        {
          "output_type": "stream",
          "name": "stdout",
          "text": [
            "   UpdatedAt   customerID  gender  SeniorCitizen Partner Dependents  tenure  \\\n",
            "0     202006  45759018157  Female              0     Yes         No     1.0   \n",
            "1     202006  45557574145    Male              0      No         No    34.0   \n",
            "2     202006  45366876421    Male              0      No         No     2.0   \n",
            "3     202006  45779536532    Male              0      No         No    45.0   \n",
            "4     202006  45923787906  Female              0      No         No     2.0   \n",
            "\n",
            "  PhoneService     MultipleLines InternetService OnlineSecurity OnlineBackup  \\\n",
            "0           No  No phone service             DSL             No          Yes   \n",
            "1          Yes                No             DSL            Yes           No   \n",
            "2          Yes                No             DSL            Yes          Yes   \n",
            "3           No  No phone service             DSL            Yes           No   \n",
            "4          Yes                No     Fiber optic             No           No   \n",
            "\n",
            "  DeviceProtection TechSupport StreamingTV StreamingMovies        Contract  \\\n",
            "0               No          No          No              No  Month-to-month   \n",
            "1              Yes          No          No              No        One year   \n",
            "2               No          No          No              No  Month-to-month   \n",
            "3              Yes         Yes          No              No        One year   \n",
            "4               No          No          No              No  Month-to-month   \n",
            "\n",
            "  PaperlessBilling              PaymentMethod  MonthlyCharges  TotalCharges  \\\n",
            "0              Yes           Electronic check           29.85         29.85   \n",
            "1               No               Mailed check           56.95       1889.50   \n",
            "2              Yes               Mailed check           53.85        108.15   \n",
            "3               No  Bank transfer (automatic)           42.30       1840.75   \n",
            "4              Yes           Electronic check           70.70        151.65   \n",
            "\n",
            "  Churn  \n",
            "0    No  \n",
            "1    No  \n",
            "2   Yes  \n",
            "3    No  \n",
            "4   Yes  \n"
          ]
        }
      ]
    },
    {
      "cell_type": "code",
      "source": [
        "print(df_load.customerID.nunique())"
      ],
      "metadata": {
        "colab": {
          "base_uri": "https://localhost:8080/"
        },
        "id": "7Hzcc7eNv_nL",
        "outputId": "d7862f83-e8ec-49d4-9282-6249b78c624f"
      },
      "execution_count": 4,
      "outputs": [
        {
          "output_type": "stream",
          "name": "stdout",
          "text": [
            "7017\n"
          ]
        }
      ]
    },
    {
      "cell_type": "markdown",
      "source": [
        "There are 7113 rows and 22 columns of data, and from 7113 rows of data, there are 7017 unique customer IDs."
      ],
      "metadata": {
        "id": "pzW7r1nxkgrE"
      }
    },
    {
      "cell_type": "markdown",
      "source": [
        "##2.a. Find a valid Customer IDs\n",
        "\n",
        "A Valid customer ID has a criteria like these:\n",
        "1. The character length is 11-12.\n",
        "2. Consists of numbers only, no characters other than numbers are allowed\n",
        "3. The first 2 digits, starting with the number 45.\n",
        "\n",
        "I will use str.match() & regex to match the criteria above. Since I'm using regex so I have to change the data type from numeric to string with astype(). And last I'll count how many customer IDs that match the criteria above with count()."
      ],
      "metadata": {
        "id": "uRhuNOtT78Ug"
      }
    },
    {
      "cell_type": "code",
      "source": [
        "df_load['valid_id'] = df_load['customerID'].astype(str).str.match(r'(45\\d{9,10})')\n",
        "df_load = (df_load[df_load['valid_id'] == True]).drop('valid_id', axis = 1)"
      ],
      "metadata": {
        "id": "JUw4arnl_KtP"
      },
      "execution_count": 5,
      "outputs": []
    },
    {
      "cell_type": "code",
      "source": [
        "print('The result of filtered customer IDs are',df_load['customerID'].count())"
      ],
      "metadata": {
        "colab": {
          "base_uri": "https://localhost:8080/"
        },
        "id": "rbzrwPkK_db2",
        "outputId": "dd46639a-8404-4bc4-c77e-dcb2def3f6c4"
      },
      "execution_count": 6,
      "outputs": [
        {
          "output_type": "stream",
          "name": "stdout",
          "text": [
            "The result of filtered customer IDs are 7006\n"
          ]
        }
      ]
    },
    {
      "cell_type": "markdown",
      "source": [
        "##2.b. Filter Duplicate Customer ID Numbers\n",
        "\n",
        "The next step is, ensure that there are no duplicate customer ID numbers. Usually duplication of this type of ID number:\n",
        "\n",
        "- Duplication due to inserting more than once with the same value for each column\n",
        "- Duplication due to different inserting periods of data collection\n",
        "\n",
        "I'll use the results from processing in the previous df_load to be processed and I'll use the drop_duplicates() function to remove duplicate rows, and sort_values() to check the last data fetch."
      ],
      "metadata": {
        "id": "jTT_blJKANrN"
      }
    },
    {
      "cell_type": "code",
      "source": [
        "# Drop Duplicate Rows\n",
        "df_load.drop_duplicates()\n",
        "# Drop duplicate ID sorted by Periode\n",
        "df_load=df_load.sort_values('UpdatedAt', ascending=False).drop_duplicates('customerID')"
      ],
      "metadata": {
        "id": "WcMD3qMB_rKQ"
      },
      "execution_count": 7,
      "outputs": []
    },
    {
      "cell_type": "code",
      "source": [
        "print('The result of the number of Customer IDs, that have been removed from its duplicates (distinct) are',df_load['customerID'].count())"
      ],
      "metadata": {
        "colab": {
          "base_uri": "https://localhost:8080/"
        },
        "id": "6XUGJANPClDQ",
        "outputId": "48b7a3f2-df14-4f9d-de12-f6ee6f26af8a"
      },
      "execution_count": 8,
      "outputs": [
        {
          "output_type": "stream",
          "name": "stdout",
          "text": [
            "The result of the number of Customer IDs, that have been removed from its duplicates (distinct) are 6993\n"
          ]
        }
      ]
    },
    {
      "cell_type": "markdown",
      "source": [
        "The validity of the customer ID number is needed to ensure that the data retrieved is correct. Based on these results, there is a difference in the number of ID numbers from the first time the data is loaded to the final result. The number of data rows when it was first loaded was 7113 rows and 22 columns with 7017 unique ID numbers. Then after checking the validity of the customer ID, the remaining 6993 rows of data that match the criteria above."
      ],
      "metadata": {
        "id": "Fr7H1ZfzFx6p"
      }
    },
    {
      "cell_type": "markdown",
      "source": [
        "##3.a. Handling Missing Values by Eliminating Rows\n",
        "\n",
        "Next, I will delete rows from data that are not detected whether it has a churn flag or not. It is assumed that the data modeler only wants to receive data that has a churn flag or not.\n",
        "\n",
        "I'll use isnull() to detect missing values and dropna() to delete data with missing values."
      ],
      "metadata": {
        "id": "jyp8VlPUGROr"
      }
    },
    {
      "cell_type": "code",
      "source": [
        "print('The total missing values from column Churn are',df_load['Churn'].isnull().sum())"
      ],
      "metadata": {
        "colab": {
          "base_uri": "https://localhost:8080/"
        },
        "id": "Ja6G4KgEEjNs",
        "outputId": "9979b300-cd43-4b02-8c98-ee0d2976b5a4"
      },
      "execution_count": 9,
      "outputs": [
        {
          "output_type": "stream",
          "name": "stdout",
          "text": [
            "The total missing values from column Churn are 43\n"
          ]
        }
      ]
    },
    {
      "cell_type": "code",
      "source": [
        "# Dropping all Rows with spesific column (churn)\n",
        "df_load.dropna(subset=['Churn'],inplace=True)"
      ],
      "metadata": {
        "id": "GElZw1H8HcI2"
      },
      "execution_count": 10,
      "outputs": []
    },
    {
      "cell_type": "code",
      "source": [
        "print('Total Rows and Columns after Missing Values have been deleted are',df_load.shape)"
      ],
      "metadata": {
        "colab": {
          "base_uri": "https://localhost:8080/"
        },
        "id": "RokhQL9QH36S",
        "outputId": "a13457bc-f5b3-4f21-ff27-c6cca5a86210"
      },
      "execution_count": 11,
      "outputs": [
        {
          "output_type": "stream",
          "name": "stdout",
          "text": [
            "Total Rows and Columns after Missing Values have been deleted are (6950, 22)\n"
          ]
        }
      ]
    },
    {
      "cell_type": "markdown",
      "source": [
        "##3.b. Handling Missing Values by Filling in certain Values\n",
        "\n",
        "Apart from deleting missing values rows from the data, missing values can be handled by filling certain values. \n",
        "\n",
        "It is assumed that the data modeler asks to fill in the missing values with the following criteria:\n",
        "\n",
        "- The data modeler's tenure asks for each row that has missing values for the length of subscription to be filled with 11.\n",
        "\n",
        "- Variables that are numeric other than Tenure are filled in with the median of each of these variables."
      ],
      "metadata": {
        "id": "YDAgokJpL3gK"
      }
    },
    {
      "cell_type": "markdown",
      "source": [
        "The first step, I'll look for missing values in all columns"
      ],
      "metadata": {
        "id": "iF6CJOnqMNdL"
      }
    },
    {
      "cell_type": "code",
      "source": [
        "print('Status Missing Values :',df_load.isnull().values.any())\n",
        "print('\\nThe total Missing Values in all columns are:')\n",
        "print(df_load.isnull().sum().sort_values(ascending=False))"
      ],
      "metadata": {
        "colab": {
          "base_uri": "https://localhost:8080/"
        },
        "id": "eICSMBhWIa43",
        "outputId": "586b5f62-57c7-4a45-8c59-044f5bdfab65"
      },
      "execution_count": 12,
      "outputs": [
        {
          "output_type": "stream",
          "name": "stdout",
          "text": [
            "Status Missing Values : True\n",
            "\n",
            "The total Missing Values in all columns are:\n",
            "tenure              99\n",
            "MonthlyCharges      26\n",
            "TotalCharges        15\n",
            "UpdatedAt            0\n",
            "DeviceProtection     0\n",
            "PaymentMethod        0\n",
            "PaperlessBilling     0\n",
            "Contract             0\n",
            "StreamingMovies      0\n",
            "StreamingTV          0\n",
            "TechSupport          0\n",
            "OnlineBackup         0\n",
            "customerID           0\n",
            "OnlineSecurity       0\n",
            "InternetService      0\n",
            "MultipleLines        0\n",
            "PhoneService         0\n",
            "Dependents           0\n",
            "Partner              0\n",
            "SeniorCitizen        0\n",
            "gender               0\n",
            "Churn                0\n",
            "dtype: int64\n"
          ]
        }
      ]
    },
    {
      "cell_type": "markdown",
      "source": [
        "Next, I'll be filling in missing values as per the criteria above."
      ],
      "metadata": {
        "id": "Q_FNOgfSMwa9"
      }
    },
    {
      "cell_type": "code",
      "source": [
        "#handling missing values Tenure fill with 11\n",
        "df_load['tenure'].fillna(11,inplace=True)\n",
        "\n",
        "#Loop\n",
        "#Handling missing values num vars (except Tenure)\n",
        "for col_name in  list(['MonthlyCharges','TotalCharges']):\n",
        "    #write your command here\n",
        "\tmedian = df_load[col_name].median()\n",
        "\tdf_load[col_name].fillna(median,inplace=True)"
      ],
      "metadata": {
        "id": "6hNlQ9VcMmZr"
      },
      "execution_count": 13,
      "outputs": []
    },
    {
      "cell_type": "markdown",
      "source": [
        "And lastly, I'll check again the status of the missing values from all columns."
      ],
      "metadata": {
        "id": "VnTwG0_TNdvm"
      }
    },
    {
      "cell_type": "code",
      "source": [
        "print('\\nThe total Missing Values from all columns after using imputer are:')\n",
        "print(df_load.isnull().sum().sort_values(ascending=False))"
      ],
      "metadata": {
        "colab": {
          "base_uri": "https://localhost:8080/"
        },
        "id": "pcdNOY7dOAWK",
        "outputId": "892b64a0-5b01-40ec-9f58-43f40b0b42b5"
      },
      "execution_count": 14,
      "outputs": [
        {
          "output_type": "stream",
          "name": "stdout",
          "text": [
            "\n",
            "The total Missing Values from all columns after using imputer are:\n",
            "UpdatedAt           0\n",
            "customerID          0\n",
            "TotalCharges        0\n",
            "MonthlyCharges      0\n",
            "PaymentMethod       0\n",
            "PaperlessBilling    0\n",
            "Contract            0\n",
            "StreamingMovies     0\n",
            "StreamingTV         0\n",
            "TechSupport         0\n",
            "DeviceProtection    0\n",
            "OnlineBackup        0\n",
            "OnlineSecurity      0\n",
            "InternetService     0\n",
            "MultipleLines       0\n",
            "PhoneService        0\n",
            "tenure              0\n",
            "Dependents          0\n",
            "Partner             0\n",
            "SeniorCitizen       0\n",
            "gender              0\n",
            "Churn               0\n",
            "dtype: int64\n"
          ]
        }
      ]
    },
    {
      "cell_type": "markdown",
      "source": [
        "After further analysis, it turns out that there are still missing values from the data that the customer's Id Number has been validated. Missing values are found in the Churn, tenure, MonthlyCharges & TotalCharges columns. After handling it by deleting rows and filling in rows with a certain value, there are no more missing values in the data, as the number of missing values for each variable has a value of 0. Next, I'll handle outliers."
      ],
      "metadata": {
        "id": "Zf3lbL8dQhvS"
      }
    },
    {
      "cell_type": "markdown",
      "source": [
        "##4. Detecting Outliers with Boxplot\n",
        "\n",
        "Outliers can be detected by using Boxplot.A boxplot is a summary of the sample distribution presented graphically which can describe the shape of the data distribution (skewness), a measure of central tendency, and a measure of dispersion (diversity). \n",
        "\n",
        "First, let's see which columns that has outliers using describe() function."
      ],
      "metadata": {
        "id": "Eq80D3sIw2xa"
      }
    },
    {
      "cell_type": "code",
      "source": [
        "print(df_load.describe())"
      ],
      "metadata": {
        "id": "ZgllnxUmMvpw",
        "colab": {
          "base_uri": "https://localhost:8080/"
        },
        "outputId": "9d216440-ad1b-43b7-ed50-92309db3bfe6"
      },
      "execution_count": 15,
      "outputs": [
        {
          "output_type": "stream",
          "name": "stdout",
          "text": [
            "       UpdatedAt  SeniorCitizen       tenure  MonthlyCharges  TotalCharges\n",
            "count     6950.0    6950.000000  6950.000000     6950.000000   6950.000000\n",
            "mean    202006.0       0.162302    32.477266       65.783741   2305.083460\n",
            "std          0.0       0.368754    25.188910       50.457871   2578.651143\n",
            "min     202006.0       0.000000     0.000000        0.000000     19.000000\n",
            "25%     202006.0       0.000000     9.000000       36.462500    406.975000\n",
            "50%     202006.0       0.000000    29.000000       70.450000   1400.850000\n",
            "75%     202006.0       0.000000    55.000000       89.850000   3799.837500\n",
            "max     202006.0       1.000000   500.000000     2311.000000  80000.000000\n"
          ]
        }
      ]
    },
    {
      "cell_type": "markdown",
      "source": [
        "From describe() function, columns tenure, MonthlyCharges, and TotalCharges are having a max value that too far from their mean. That's indicating the existence of outliers. Let's see their Boxplot."
      ],
      "metadata": {
        "id": "HrKnueA0zLUn"
      }
    },
    {
      "cell_type": "code",
      "source": [
        "#For tenure column\n",
        "plt.figure()\n",
        "sns.boxplot(x=df_load['tenure'])\n",
        "plt.show()"
      ],
      "metadata": {
        "colab": {
          "base_uri": "https://localhost:8080/",
          "height": 279
        },
        "id": "4gHU8sHlzxKy",
        "outputId": "215491cc-a0f4-438a-ad8b-47d52d498154"
      },
      "execution_count": 16,
      "outputs": [
        {
          "output_type": "display_data",
          "data": {
            "text/plain": [
              "<Figure size 432x288 with 1 Axes>"
            ],
            "image/png": "[encoded data removed]"
          },
          "metadata": {
            "needs_background": "light"
          }
        }
      ]
    },
    {
      "cell_type": "code",
      "source": [
        "# For MonthlyCharges column\n",
        "plt.figure()\n",
        "sns.boxplot(x=df_load['MonthlyCharges'])\n",
        "plt.show()"
      ],
      "metadata": {
        "colab": {
          "base_uri": "https://localhost:8080/",
          "height": 279
        },
        "id": "CwmEC9Xhz6sw",
        "outputId": "2b8fcbda-ae24-48df-eac3-c2db32b7506c"
      },
      "execution_count": 17,
      "outputs": [
        {
          "output_type": "display_data",
          "data": {
            "text/plain": [
              "<Figure size 432x288 with 1 Axes>"
            ],
            "image/png": "[encoded data removed]"
          },
          "metadata": {
            "needs_background": "light"
          }
        }
      ]
    },
    {
      "cell_type": "code",
      "source": [
        "#The last for TotalCharges column\n",
        "plt.figure()\n",
        "sns.boxplot(x=df_load['TotalCharges'])\n",
        "plt.show()"
      ],
      "metadata": {
        "colab": {
          "base_uri": "https://localhost:8080/",
          "height": 279
        },
        "id": "CV-Vfd9E0Hk5",
        "outputId": "1b0e78bb-dafc-4e06-f41c-cce746aaa221"
      },
      "execution_count": 18,
      "outputs": [
        {
          "output_type": "display_data",
          "data": {
            "text/plain": [
              "<Figure size 432x288 with 1 Axes>"
            ],
            "image/png": "[encoded data removed]"
          },
          "metadata": {
            "needs_background": "light"
          }
        }
      ]
    },
    {
      "cell_type": "markdown",
      "source": [
        "From their Boxplot, there are some Outliers from those 3 columns, next, let's handle it using Interquartile Range (IQR). I'll use IQR to define the Minimum and Maximum values from IQR. And then using the mask() function, I'll change the value that exists outside the Minimum and Maximum value into Minimum and Maximum values."
      ],
      "metadata": {
        "id": "tdgue8vZ036D"
      }
    },
    {
      "cell_type": "code",
      "source": [
        "Q1=(df_load[['tenure','MonthlyCharges','TotalCharges']]).quantile(0.25)\n",
        "Q3=(df_load[['tenure','MonthlyCharges','TotalCharges']]).quantile(0.75)\n",
        "\n",
        "IQR=Q3-Q1"
      ],
      "metadata": {
        "id": "3CwgxKrU0VWZ"
      },
      "execution_count": 19,
      "outputs": []
    },
    {
      "cell_type": "code",
      "source": [
        "maximum = Q3 + (1.5*IQR)\n",
        "print('Maximum values from each variable are: ')\n",
        "print(maximum)"
      ],
      "metadata": {
        "colab": {
          "base_uri": "https://localhost:8080/"
        },
        "id": "6RYNoYRL3hJ5",
        "outputId": "51ced411-4a9e-4630-814d-87c985b20b3a"
      },
      "execution_count": 20,
      "outputs": [
        {
          "output_type": "stream",
          "name": "stdout",
          "text": [
            "Maximum values from each variable are: \n",
            "tenure             124.00000\n",
            "MonthlyCharges     169.93125\n",
            "TotalCharges      8889.13125\n",
            "dtype: float64\n"
          ]
        }
      ]
    },
    {
      "cell_type": "code",
      "source": [
        "minimum = Q1 - (1.5*IQR)\n",
        "print('\\nMinimum values from each variable are: ')\n",
        "print(minimum)"
      ],
      "metadata": {
        "colab": {
          "base_uri": "https://localhost:8080/"
        },
        "id": "24331s1r3qg7",
        "outputId": "e2c3f721-c6e5-4691-81dd-2582ba28366c"
      },
      "execution_count": 21,
      "outputs": [
        {
          "output_type": "stream",
          "name": "stdout",
          "text": [
            "\n",
            "Minimum values from each variable are: \n",
            "tenure             -60.00000\n",
            "MonthlyCharges     -43.61875\n",
            "TotalCharges     -4682.31875\n",
            "dtype: float64\n"
          ]
        }
      ]
    },
    {
      "cell_type": "code",
      "source": [
        "more_than = (df_load > maximum)\n",
        "lower_than = (df_load < minimum)\n",
        "df_load = df_load.mask(more_than,maximum,axis=1)\n",
        "df_load = df_load.mask(lower_than,minimum,axis=1)"
      ],
      "metadata": {
        "colab": {
          "base_uri": "https://localhost:8080/"
        },
        "id": "e2EeUOYl37pC",
        "outputId": "7744462e-7f91-4935-b398-8a1bb2637a0c"
      },
      "execution_count": 22,
      "outputs": [
        {
          "output_type": "stream",
          "name": "stderr",
          "text": [
            "<ipython-input-22-04444ddaf6a7>:1: FutureWarning: Automatic reindexing on DataFrame vs Series comparisons is deprecated and will raise ValueError in a future version.  Do `left, right = left.align(right, axis=1, copy=False)` before e.g. `left == right`\n",
            "  more_than = (df_load > maximum)\n",
            "<ipython-input-22-04444ddaf6a7>:2: FutureWarning: Automatic reindexing on DataFrame vs Series comparisons is deprecated and will raise ValueError in a future version.  Do `left, right = left.align(right, axis=1, copy=False)` before e.g. `left == right`\n",
            "  lower_than = (df_load < minimum)\n"
          ]
        }
      ]
    },
    {
      "cell_type": "code",
      "source": [
        "print('\\nMaximum values from each variable are: ')\n",
        "print(df_load[['tenure','MonthlyCharges','TotalCharges']].describe())"
      ],
      "metadata": {
        "colab": {
          "base_uri": "https://localhost:8080/"
        },
        "id": "yOMCNo_o4BZk",
        "outputId": "fda9876e-9fd4-4f91-ddd3-2972c52acd8f"
      },
      "execution_count": 23,
      "outputs": [
        {
          "output_type": "stream",
          "name": "stdout",
          "text": [
            "\n",
            "Maximum values from each variable are: \n",
            "            tenure  MonthlyCharges  TotalCharges\n",
            "count  6950.000000     6950.000000   6950.000000\n",
            "mean     32.423165       64.992201   2286.058750\n",
            "std      24.581073       30.032040   2265.702553\n",
            "min       0.000000        0.000000     19.000000\n",
            "25%       9.000000       36.462500    406.975000\n",
            "50%      29.000000       70.450000   1400.850000\n",
            "75%      55.000000       89.850000   3799.837500\n",
            "max     124.000000      169.931250   8889.131250\n"
          ]
        }
      ]
    },
    {
      "cell_type": "markdown",
      "source": [
        "After handling the outliers, and looking at the distribution of the data, it can be seen that there are no more outlier values."
      ],
      "metadata": {
        "id": "oJfBvnTl4qGI"
      }
    },
    {
      "cell_type": "markdown",
      "source": [
        "##5.Detecting Non-Standard Values\n",
        "\n",
        "I'll Detect whether there are values of non-standard categorical variables. This usually occurs due to data input errors. The difference in terms is one of the factors that often occur, for this reason, standardization of the data that has been input is needed.\n",
        "\n",
        "I'll using the value_counts() function to see the number of unique data per variable."
      ],
      "metadata": {
        "id": "rIGT5vw247tQ"
      }
    },
    {
      "cell_type": "code",
      "source": [
        "#Loop\n",
        "for col_name in list(['gender','SeniorCitizen','Partner','Dependents','PhoneService','MultipleLines','InternetService','OnlineSecurity','OnlineBackup','DeviceProtection','TechSupport','StreamingTV','StreamingMovies','Contract','PaperlessBilling','PaymentMethod','Churn']):\n",
        "  #write your command here\n",
        "\tprint('\\nUnique Values Count \\033[1m' + 'Before Standardized \\033[0m Variable',col_name)\n",
        "\tprint(df_load[col_name].value_counts())"
      ],
      "metadata": {
        "colab": {
          "base_uri": "https://localhost:8080/"
        },
        "id": "tUpU2fYz4OsM",
        "outputId": "e6c4ff2c-2267-4ab1-aef9-47b2378be201"
      },
      "execution_count": 24,
      "outputs": [
        {
          "output_type": "stream",
          "name": "stdout",
          "text": [
            "\n",
            "Unique Values Count \u001b[1mBefore Standardized \u001b[0m Variable gender\n",
            "Male         3499\n",
            "Female       3431\n",
            "Wanita         14\n",
            "Laki-Laki       6\n",
            "Name: gender, dtype: int64\n",
            "\n",
            "Unique Values Count \u001b[1mBefore Standardized \u001b[0m Variable SeniorCitizen\n",
            "0    5822\n",
            "1    1128\n",
            "Name: SeniorCitizen, dtype: int64\n",
            "\n",
            "Unique Values Count \u001b[1mBefore Standardized \u001b[0m Variable Partner\n",
            "No     3591\n",
            "Yes    3359\n",
            "Name: Partner, dtype: int64\n",
            "\n",
            "Unique Values Count \u001b[1mBefore Standardized \u001b[0m Variable Dependents\n",
            "No     4870\n",
            "Yes    2060\n",
            "Iya      20\n",
            "Name: Dependents, dtype: int64\n",
            "\n",
            "Unique Values Count \u001b[1mBefore Standardized \u001b[0m Variable PhoneService\n",
            "Yes    6281\n",
            "No      669\n",
            "Name: PhoneService, dtype: int64\n",
            "\n",
            "Unique Values Count \u001b[1mBefore Standardized \u001b[0m Variable MultipleLines\n",
            "No                  3346\n",
            "Yes                 2935\n",
            "No phone service     669\n",
            "Name: MultipleLines, dtype: int64\n",
            "\n",
            "Unique Values Count \u001b[1mBefore Standardized \u001b[0m Variable InternetService\n",
            "Fiber optic    3057\n",
            "DSL            2388\n",
            "No             1505\n",
            "Name: InternetService, dtype: int64\n",
            "\n",
            "Unique Values Count \u001b[1mBefore Standardized \u001b[0m Variable OnlineSecurity\n",
            "No                     3454\n",
            "Yes                    1991\n",
            "No internet service    1505\n",
            "Name: OnlineSecurity, dtype: int64\n",
            "\n",
            "Unique Values Count \u001b[1mBefore Standardized \u001b[0m Variable OnlineBackup\n",
            "No                     3045\n",
            "Yes                    2400\n",
            "No internet service    1505\n",
            "Name: OnlineBackup, dtype: int64\n",
            "\n",
            "Unique Values Count \u001b[1mBefore Standardized \u001b[0m Variable DeviceProtection\n",
            "No                     3054\n",
            "Yes                    2391\n",
            "No internet service    1505\n",
            "Name: DeviceProtection, dtype: int64\n",
            "\n",
            "Unique Values Count \u001b[1mBefore Standardized \u001b[0m Variable TechSupport\n",
            "No                     3431\n",
            "Yes                    2014\n",
            "No internet service    1505\n",
            "Name: TechSupport, dtype: int64\n",
            "\n",
            "Unique Values Count \u001b[1mBefore Standardized \u001b[0m Variable StreamingTV\n",
            "No                     2774\n",
            "Yes                    2671\n",
            "No internet service    1505\n",
            "Name: StreamingTV, dtype: int64\n",
            "\n",
            "Unique Values Count \u001b[1mBefore Standardized \u001b[0m Variable StreamingMovies\n",
            "No                     2747\n",
            "Yes                    2698\n",
            "No internet service    1505\n",
            "Name: StreamingMovies, dtype: int64\n",
            "\n",
            "Unique Values Count \u001b[1mBefore Standardized \u001b[0m Variable Contract\n",
            "Month-to-month    3823\n",
            "Two year          1670\n",
            "One year          1457\n",
            "Name: Contract, dtype: int64\n",
            "\n",
            "Unique Values Count \u001b[1mBefore Standardized \u001b[0m Variable PaperlessBilling\n",
            "Yes    4114\n",
            "No     2836\n",
            "Name: PaperlessBilling, dtype: int64\n",
            "\n",
            "Unique Values Count \u001b[1mBefore Standardized \u001b[0m Variable PaymentMethod\n",
            "Electronic check             2337\n",
            "Mailed check                 1594\n",
            "Bank transfer (automatic)    1519\n",
            "Credit card (automatic)      1500\n",
            "Name: PaymentMethod, dtype: int64\n",
            "\n",
            "Unique Values Count \u001b[1mBefore Standardized \u001b[0m Variable Churn\n",
            "No       5114\n",
            "Yes      1827\n",
            "Churn       9\n",
            "Name: Churn, dtype: int64\n"
          ]
        }
      ]
    },
    {
      "cell_type": "markdown",
      "source": [
        "From the results, 3 columns have non-standard value. There are gender, Dependents, and Churn. Those variables are:\n",
        "\n",
        "- Gender (Female, Male, Wanita, Laki-laki), which can be standardized in value to (Female, Male) because they have the same meaning.\n",
        "- Dependents (Yes, No, Iya), whose values can be standardized to (Yes, No) because they have the same meaning.\n",
        "- Churn (Yes, No, Churn), whose value can be standardized to (Yes, No) because it has the same meaning.\n",
        "\n",
        "I'll be using replace() function to replace those non-standard values"
      ],
      "metadata": {
        "id": "RjF4EP066NgO"
      }
    },
    {
      "cell_type": "code",
      "source": [
        "df_load = df_load.replace(['Wanita','Laki-Laki','Churn','Iya'],['Female','Male','Yes','Yes'])\n",
        "\n",
        "# Masukkan variable\n",
        "for col_name in list(['gender','Dependents','Churn']):\n",
        "    print('\\nUnique Values Count \\033[1m' + 'After Standardized \\033[0mVariable',col_name)\n",
        "    print(df_load[col_name].value_counts())"
      ],
      "metadata": {
        "colab": {
          "base_uri": "https://localhost:8080/"
        },
        "id": "ZHRBy6uN7U3D",
        "outputId": "5e207b4b-e2fb-4c5b-e01c-647ea8b26a34"
      },
      "execution_count": 25,
      "outputs": [
        {
          "output_type": "stream",
          "name": "stdout",
          "text": [
            "\n",
            "Unique Values Count \u001b[1mAfter Standardized \u001b[0mVariable gender\n",
            "Male      3505\n",
            "Female    3445\n",
            "Name: gender, dtype: int64\n",
            "\n",
            "Unique Values Count \u001b[1mAfter Standardized \u001b[0mVariable Dependents\n",
            "No     4870\n",
            "Yes    2080\n",
            "Name: Dependents, dtype: int64\n",
            "\n",
            "Unique Values Count \u001b[1mAfter Standardized \u001b[0mVariable Churn\n",
            "No     5114\n",
            "Yes    1836\n",
            "Name: Churn, dtype: int64\n"
          ]
        }
      ]
    },
    {
      "cell_type": "markdown",
      "source": [
        "After we standardize the value, and we observe again the form of the data, it is well standardized for the unique value.\n",
        "\n",
        "And with that, the data cleansing process from this Telco data is finished, and the data has free from missing values, duplicate values, and outliers. Invalid and non-standard values has been handled too. \n"
      ],
      "metadata": {
        "id": "38aWGFG86vjC"
      }
    },
    {
      "cell_type": "code",
      "source": [],
      "metadata": {
        "id": "Qm3Y3vXx52nP"
      },
      "execution_count": null,
      "outputs": []
    }
  ]
}